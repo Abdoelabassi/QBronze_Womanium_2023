{
 "cells": [
  {
   "cell_type": "markdown",
   "metadata": {},
   "source": [
    "<a href=\"https://qworld.net\" target=\"_blank\" align=\"left\"><img src=\"../qworld/images/header.jpg\"  align=\"left\"></a>\n",
    "$ \\newcommand{\\bra}[1]{\\langle #1|} $\n",
    "$ \\newcommand{\\ket}[1]{|#1\\rangle} $\n",
    "$ \\newcommand{\\braket}[2]{\\langle #1|#2\\rangle} $\n",
    "$ \\newcommand{\\dot}[2]{ #1 \\cdot #2} $\n",
    "$ \\newcommand{\\biginner}[2]{\\left\\langle #1,#2\\right\\rangle} $\n",
    "$ \\newcommand{\\mymatrix}[2]{\\left( \\begin{array}{#1} #2\\end{array} \\right)} $\n",
    "$ \\newcommand{\\myvector}[1]{\\mymatrix{c}{#1}} $\n",
    "$ \\newcommand{\\myrvector}[1]{\\mymatrix{r}{#1}} $\n",
    "$ \\newcommand{\\mypar}[1]{\\left( #1 \\right)} $\n",
    "$ \\newcommand{\\mybigpar}[1]{ \\Big( #1 \\Big)} $\n",
    "$ \\newcommand{\\sqrttwo}{\\frac{1}{\\sqrt{2}}} $\n",
    "$ \\newcommand{\\dsqrttwo}{\\dfrac{1}{\\sqrt{2}}} $\n",
    "$ \\newcommand{\\onehalf}{\\frac{1}{2}} $\n",
    "$ \\newcommand{\\donehalf}{\\dfrac{1}{2}} $\n",
    "$ \\newcommand{\\hadamard}{ \\mymatrix{rr}{ \\sqrttwo & \\sqrttwo \\\\ \\sqrttwo & -\\sqrttwo }} $\n",
    "$ \\newcommand{\\vzero}{\\myvector{1\\\\0}} $\n",
    "$ \\newcommand{\\vone}{\\myvector{0\\\\1}} $\n",
    "$ \\newcommand{\\stateplus}{\\myvector{ \\sqrttwo \\\\  \\sqrttwo } } $\n",
    "$ \\newcommand{\\stateminus}{ \\myrvector{ \\sqrttwo \\\\ -\\sqrttwo } } $\n",
    "$ \\newcommand{\\myarray}[2]{ \\begin{array}{#1}#2\\end{array}} $\n",
    "$ \\newcommand{\\X}{ \\mymatrix{cc}{0 & 1 \\\\ 1 & 0}  } $\n",
    "$ \\newcommand{\\I}{ \\mymatrix{rr}{1 & 0 \\\\ 0 & 1}  } $\n",
    "$ \\newcommand{\\Z}{ \\mymatrix{rr}{1 & 0 \\\\ 0 & -1}  } $\n",
    "$ \\newcommand{\\Htwo}{ \\mymatrix{rrrr}{ \\frac{1}{2} & \\frac{1}{2} & \\frac{1}{2} & \\frac{1}{2} \\\\ \\frac{1}{2} & -\\frac{1}{2} & \\frac{1}{2} & -\\frac{1}{2} \\\\ \\frac{1}{2} & \\frac{1}{2} & -\\frac{1}{2} & -\\frac{1}{2} \\\\ \\frac{1}{2} & -\\frac{1}{2} & -\\frac{1}{2} & \\frac{1}{2} } } $\n",
    "$ \\newcommand{\\CNOT}{ \\mymatrix{cccc}{1 & 0 & 0 & 0 \\\\ 0 & 1 & 0 & 0 \\\\ 0 & 0 & 0 & 1 \\\\ 0 & 0 & 1 & 0} } $\n",
    "$ \\newcommand{\\norm}[1]{ \\left\\lVert #1 \\right\\rVert } $\n",
    "$ \\newcommand{\\pstate}[1]{ \\lceil \\mspace{-1mu} #1 \\mspace{-1.5mu} \\rfloor } $\n",
    "$ \\newcommand{\\greenbit}[1] {\\mathbf{{\\color{green}#1}}} $\n",
    "$ \\newcommand{\\bluebit}[1] {\\mathbf{{\\color{blue}#1}}} $\n",
    "$ \\newcommand{\\redbit}[1] {\\mathbf{{\\color{red}#1}}} $\n",
    "$ \\newcommand{\\brownbit}[1] {\\mathbf{{\\color{brown}#1}}} $\n",
    "$ \\newcommand{\\blackbit}[1] {\\mathbf{{\\color{black}#1}}} $"
   ]
  },
  {
   "cell_type": "markdown",
   "metadata": {},
   "source": [
    "<font style=\"font-size:28px;\" align=\"left\"><b> A Game with two biased coins  </b></font>\n",
    "<br>\n",
    "_prepared by Abuzer Yakaryilmaz_\n",
    "<br><br>\n",
    "[<img src=\"../qworld/images/watch_lecture.jpg\" align=\"left\">](https://youtu.be/k0OJvv7AAgU)\n",
    "<br><br><br>"
   ]
  },
  {
   "cell_type": "markdown",
   "metadata": {},
   "source": [
    "## Probabilistic bits\n",
    "\n",
    "We start with a short introduction to the probabilistic bits to trace the details of the game below.\n",
    "\n",
    "Suppose that we have a biased coin landing on heads with probability $ 0.3 $, and it is tossed once but we do not see the outcome.\n",
    "\n",
    "Even though it lands on either heads or tails, our information about the outcome is probabilistic: It is heads with probability $ 0.3 $ and tails with probablity $ 0.7 $. \n",
    "\n",
    "If we consider this coin as a system with two states (heads and tails: respectively, states 0 and 1), then we can say that after one iteration it is in states 0 and 1 with probabilities 0.3 and 0.7, respectively.\n",
    "\n",
    "In general, a probabilistic bit is in states 0 and 1 with probabilities $ p $ and $ 1-p $, where $ p $ is a number between 0 and 1. Remark that if $  p=1 $ or $ p=0 $, then the bit becomes deterministic.\n",
    "\n",
    "If the above biased coin is tossed once more, the probabilisties of the getting heads and tails (or being in the states in 0 and 1) will still be the same. In the following game, by using two biased-coins, we will be able to have different probabilities for the states 0 and 1. This game is our first step to define a probabilitic operator for probabilistic bits."
   ]
  },
  {
   "cell_type": "markdown",
   "metadata": {},
   "source": [
    "## The game"
   ]
  },
  {
   "cell_type": "markdown",
   "metadata": {},
   "source": [
    "Our friend Asja has one euro and one cent. \n",
    "\n",
    "Both coins are biased, and the probabilities of getting heads and tails are as follows:\n",
    "<ul>\n",
    "    <li> one euro: heads with probability $ 0.6 $ and tails with probability $ 0.4 $. </li>\n",
    "    <li> one cent: heads with probability $ 0.3 $ and tails with probability $ 0.7 $. </li>\n",
    "</ul>\n",
    "\n",
    "Asja flips her coins based on the following <b>protocol</b>: \n",
    "<ol> \n",
    "    <li> she starts with flipping one euro[*]; </li>\n",
    "    <li> whenever she gets heads, she flips one euro in the next round; and, </li>\n",
    "    <li> whenever she gets tails, she flips one cent in the next round. </li>\n",
    "</ol>\n",
    "\n",
    "By using a single bit, we summarize all transitions of this game as follows:\n",
    "\n",
    "$\n",
    "GameCoins = \\begin{array}{c|cc} \\hookleftarrow & \\mathbf{Head} & \\mathbf{Tail} \\\\ \\hline \\mathbf{Head} & 0.6 & 0.3\\\\  \\mathbf{Tail} & 0.4 & 0.7  \\end{array} = \\begin{array}{c|cc} \\hookleftarrow & \\mathbf{0} & \\mathbf{1} \\\\ \\hline \\mathbf{0} & 0.6 & 0.3 \\\\  \\mathbf{1} & 0.4 & 0.7  \\end{array}\n",
    "$\n",
    "\n",
    "[*] We should fix an initial condition. Otherwise, Asja cannot pick any of the coins at the beginning of game."
   ]
  },
  {
   "cell_type": "markdown",
   "metadata": {},
   "source": [
    "<h3>Task 1: Convince yourself </h3>\n",
    "\n",
    "Convince yourself about the correctness of transitions given in the table.\n",
    "\n",
    "<i> Remark that there is no difference between getting heads from the one euro coin or from the one cent coin.\n",
    "    \n",
    "Therefore, one bit is enough to represent all transitions.\n",
    "</i>"
   ]
  },
  {
   "cell_type": "markdown",
   "metadata": {},
   "source": [
    "<h3> Tracing Asja's three coin tosses </h3>\n",
    "\n",
    "Suppose that Asja <b>secretly</b> tosses her coins based on the defined protocol.\n",
    "\n",
    "By using python, we can calculate the probabilities of Asja seeing heads and tails after three coin tosses.\n",
    "\n",
    "<i><b>Remark:</b> In the previous tasks of [Coin Flipping](B06_Coin_Flip.ipynb), we know the ideal ratios, and we experiment many coin tosses and then expect to observe the results close to the ideal ratios.\n",
    "    \n",
    "Here we calculate the exact probabilities (the ideal ratio) by using python. (We will not do the experiments as in the previous tasks.)\n",
    "</i>\n",
    "\n",
    "We present our solution step by step."
   ]
  },
  {
   "cell_type": "code",
   "execution_count": 1,
   "metadata": {},
   "outputs": [
    {
     "name": "stdout",
     "output_type": "stream",
     "text": [
      "the probability of getting head after 3 coin tosses is 0.44399999999999995\n",
      "the probability of getting tail after 3 coin tosses is 0.556\n"
     ]
    }
   ],
   "source": [
    "#\n",
    "# OUR SOLUTION\n",
    "#\n",
    "\n",
    "# initial condition:\n",
    "# Asja will start with one euro,\n",
    "#    and so, we assume that the probability of having head is 1 at the beginning.\n",
    "prob_head = 1\n",
    "prob_tail = 0\n",
    "\n",
    "\n",
    "#\n",
    "# first coin-flip\n",
    "#\n",
    "\n",
    "# the new probability of head is calculated by using the first row of table\n",
    "new_prob_head = prob_head * 0.6 + prob_tail * 0.3\n",
    "\n",
    "# the new probability of tail is calculated by using the second row of the table\n",
    "new_prob_tail = prob_head * 0.4 + prob_tail * 0.7\n",
    "\n",
    "# update the probabilities for the second round\n",
    "prob_head = new_prob_head\n",
    "prob_tail = new_prob_tail\n",
    "\n",
    "#\n",
    "# second coin-flip\n",
    "#\n",
    "# we do the same calculations\n",
    "\n",
    "new_prob_head = prob_head * 0.6 + prob_tail * 0.3\n",
    "new_prob_tail = prob_head * 0.4 + prob_tail * 0.7\n",
    "\n",
    "prob_head = new_prob_head\n",
    "prob_tail = new_prob_tail\n",
    "\n",
    "#\n",
    "# third coin-flip\n",
    "#\n",
    "# we do the same calculations\n",
    "\n",
    "new_prob_head = prob_head * 0.6 + prob_tail * 0.3\n",
    "new_prob_tail = prob_head * 0.4 + prob_tail * 0.7\n",
    "\n",
    "prob_head = new_prob_head\n",
    "prob_tail = new_prob_tail\n",
    "\n",
    "# print prob_head and prob_tail\n",
    "print(\"the probability of getting head after 3 coin tosses is\",prob_head)\n",
    "print(\"the probability of getting tail after 3 coin tosses is\",prob_tail)"
   ]
  },
  {
   "cell_type": "markdown",
   "metadata": {},
   "source": [
    "<h3> Task 2: Tracing ten biased coin tosses </h3>\n",
    "\n",
    "By using python, calculate the probabilities of Asja seeing heads and tails after 10 coin tosses.\n",
    "\n",
    "$\n",
    "GameCoins = \\begin{array}{c|cc} \\hookleftarrow & \\mathbf{Head} & \\mathbf{Tail} \\\\ \\hline \\mathbf{Head} & 0.6 & 0.3\\\\  \\mathbf{Tail} & 0.4 & 0.7  \\end{array} = \\begin{array}{c|cc} \\hookleftarrow & \\mathbf{0} & \\mathbf{1} \\\\ \\hline \\mathbf{0} & 0.6 & 0.3 \\\\  \\mathbf{1} & 0.4 & 0.7  \\end{array}\n",
    "$\n",
    "\n",
    "Use a loop in your solution."
   ]
  },
  {
   "cell_type": "code",
   "execution_count": 3,
   "metadata": {},
   "outputs": [
    {
     "name": "stdout",
     "output_type": "stream",
     "text": [
      "The probability of getting heads after 10 tosses is 0.42857480279999977 \n",
      "The probability of getting tails after 10 tosses is 0.5714251971999997 \n"
     ]
    }
   ],
   "source": [
    "#\n",
    "# your solution is here\n",
    "#\n",
    "prob_heads = 1\n",
    "prob_tails = 0\n",
    "\n",
    "for i in range(10):\n",
    "    new_prob_heads = prob_heads * 0.6 + prob_tails * 0.3\n",
    "    new_prob_tails = prob_heads * 0.4 + prob_tails * 0.7\n",
    "    prob_heads = new_prob_heads\n",
    "    prob_tails = new_prob_tails\n",
    "\n",
    "print(f\"The probability of getting heads after 10 tosses is {prob_heads} \")\n",
    "print(f\"The probability of getting tails after 10 tosses is {prob_tails} \")\n"
   ]
  },
  {
   "cell_type": "markdown",
   "metadata": {},
   "source": [
    "<a href=\"CS12_Coin_Flip_Game_Solutions.ipynb#task2\">click for our solution</a>"
   ]
  },
  {
   "cell_type": "markdown",
   "metadata": {},
   "source": [
    "<h3> Task 3</h3>\n",
    "\n",
    "Repeat Task 2 for 20, 30, and 50 coin tosses."
   ]
  },
  {
   "cell_type": "code",
   "execution_count": 4,
   "metadata": {},
   "outputs": [
    {
     "name": "stdout",
     "output_type": "stream",
     "text": [
      "The probability of getting heads after 10 tosses is 0.42857142857142805 \n",
      "The probability of getting tails after 10 tosses is 0.5714285714285706 \n"
     ]
    }
   ],
   "source": [
    "#\n",
    "# your solution is here\n",
    "#\n",
    "prob_heads = 1\n",
    "prob_tails = 0\n",
    "\n",
    "for toss in [20, 30, 50]:\n",
    "    for i in range(toss):\n",
    "        new_prob_heads = prob_heads * 0.6 + prob_tails * 0.3\n",
    "        new_prob_tails = prob_heads * 0.4 + prob_tails * 0.7\n",
    "        prob_heads = new_prob_heads\n",
    "        prob_tails = new_prob_tails\n",
    "\n",
    "print(f\"The probability of getting heads after 10 tosses is {prob_heads} \")\n",
    "print(f\"The probability of getting tails after 10 tosses is {prob_tails} \")\n",
    "\n",
    "        \n"
   ]
  },
  {
   "cell_type": "markdown",
   "metadata": {},
   "source": [
    "<a href=\"CS12_Coin_Flip_Game_Solutions.ipynb#task3\">click for our solution</a>"
   ]
  },
  {
   "cell_type": "markdown",
   "metadata": {},
   "source": [
    "<h3> Task 4</h3>\n",
    "\n",
    "Repeat Task 2 for 10, 20, and 50 coin tosses by picking different initial conditions, e.g., \n",
    "    \n",
    "    prob_head = prob_tail = 1/2\n",
    "or\n",
    "    \n",
    "    prob_head = 0 \n",
    "    prob_tail = 1"
   ]
  },
  {
   "cell_type": "code",
   "execution_count": 11,
   "metadata": {},
   "outputs": [
    {
     "name": "stdout",
     "output_type": "stream",
     "text": [
      "The probability of getting heads after 10 tosses is 0.42857142857142794 \n",
      "The probability of getting tails after 10 tosses is 0.5714285714285706 \n"
     ]
    }
   ],
   "source": [
    "#\n",
    "# your solution is here\n",
    "#\n",
    "class CoinFlip:\n",
    "    def __init__(self):\n",
    "        self.proba_heads = 1\n",
    "        self.proba_tails = 0\n",
    "\n",
    "    #getters\n",
    "    def getProba_heads(self):\n",
    "        return self.proba_heads\n",
    "    def getProba_tails(self):\n",
    "        return self.proba_tails\n",
    "\n",
    "    # setters    \n",
    "    def setProba_heads(self,p):\n",
    "        self.proba_heads = p\n",
    "        \n",
    "    def setProba_tails(self,p):\n",
    "        self.proba_tails = p\n",
    "\n",
    "coin = CoinFlip()\n",
    "#first init\n",
    "p = [0,1/2,1]\n",
    "coin.setProba_heads(p[0])\n",
    "coin.setProba_tails(p[2])\n",
    "\n",
    "prob_heads = coin.getProba_heads()\n",
    "prob_tails = coin.getProba_tails()\n",
    "\n",
    "for toss in [20, 30, 50]:\n",
    "    for i in range(toss):\n",
    "        new_prob_heads = prob_heads * 0.6 + prob_tails * 0.3\n",
    "        new_prob_tails = prob_heads * 0.4 + prob_tails * 0.7\n",
    "        prob_heads = new_prob_heads\n",
    "        prob_tails = new_prob_tails\n",
    "\n",
    "print(f\"The probability of getting heads after 10 tosses is {prob_heads} \")\n",
    "print(f\"The probability of getting tails after 10 tosses is {prob_tails} \")\n",
    "    \n"
   ]
  },
  {
   "cell_type": "markdown",
   "metadata": {},
   "source": [
    "<a href=\"CS12_Coin_Flip_Game_Solutions.ipynb#task4\">click for our solution</a>"
   ]
  },
  {
   "cell_type": "markdown",
   "metadata": {},
   "source": [
    "<hr>"
   ]
  },
  {
   "cell_type": "markdown",
   "metadata": {},
   "source": [
    "<h3> Extra: Arbitrary transitions for GameCoins</h3>\n",
    "\n",
    "By changing the bias of each Asja's coin, we can define arbitrary GameCoins.\n",
    "\n",
    "If $ a $ is the probability of getting heads for one euro and $ b $ is the probability of getting heads for one cent, then we have the following transitions:\n",
    "\n",
    "$\n",
    "GameCoins(a,b) = \\begin{array}{c|cc} \\hookleftarrow & \\mathbf{Head} & \\mathbf{Tail} \\\\ \\hline \\mathbf{Head} & a & b\\\\  \\mathbf{Tail} & 1-a & 1-b  \\end{array} = \\begin{array}{c|cc} \\hookleftarrow & \\mathbf{0} & \\mathbf{1} \\\\ \\hline \\mathbf{0} & a & b \\\\  \\mathbf{1} & 1-a & 1-b  \\end{array}\n",
    "$"
   ]
  },
  {
   "cell_type": "markdown",
   "metadata": {},
   "source": [
    "<h3> Task 5 </h3>\n",
    "\n",
    "Observe that if $ a=1 $ and $ b = 0 $, then it is Identity operator, i.e., the initial condition will stay as it is.\n",
    "\n",
    "If $ a=0 $ and $ b=1 $, then it is NOT operator. NOT operator swaps the probabilities of heads and tails in each step. If the initial probabilities are not $ 0.5 $ and $ 0.5 $, then the system never converges to a fixed probabilities."
   ]
  },
  {
   "cell_type": "code",
   "execution_count": 28,
   "metadata": {},
   "outputs": [],
   "source": [
    "#\n",
    "# your solution is here\n",
    "#\n",
    "def GameCoins(a,b):\n",
    "    coin = CoinFlip()\n",
    "    coin.setProba_heads(a)\n",
    "    coin.setProba_tails(b)\n",
    "    prob_heads = coin.getProba_heads()\n",
    "    prob_tails = coin.getProba_tails()\n",
    "    for toss in [20, 30, 50]:\n",
    "        for i in range(toss):\n",
    "            new_prob_heads = prob_heads * a + prob_tails * b\n",
    "            new_prob_tails = prob_heads * (1-a) + prob_tails * (1-b)\n",
    "            prob_heads = new_prob_heads\n",
    "            prob_tails = new_prob_tails\n",
    "        print(f\"The probability of getting heads after {toss} tosses is {prob_heads} \")\n",
    "        print(f\"The probability of getting tails after {toss} tosses is {prob_tails} \")\n",
    "        print(\"--------------------------------------------------------\")"
   ]
  },
  {
   "cell_type": "code",
   "execution_count": 29,
   "metadata": {},
   "outputs": [
    {
     "name": "stdout",
     "output_type": "stream",
     "text": [
      "The probability of getting heads after 20 tosses is 0 \n",
      "The probability of getting tails after 20 tosses is 1 \n",
      "--------------------------------------------------------\n",
      "The probability of getting heads after 30 tosses is 0 \n",
      "The probability of getting tails after 30 tosses is 1 \n",
      "--------------------------------------------------------\n",
      "The probability of getting heads after 50 tosses is 0 \n",
      "The probability of getting tails after 50 tosses is 1 \n",
      "--------------------------------------------------------\n"
     ]
    }
   ],
   "source": [
    "GameCoins(0,1)"
   ]
  },
  {
   "cell_type": "markdown",
   "metadata": {},
   "source": [
    "<h3> Task 6</h3>\n",
    "\n",
    "Randomly pick the values of $ a $ and $ b $, and then implement Tasks 3 and 4 for $ GameCoins(a,b) $."
   ]
  },
  {
   "cell_type": "code",
   "execution_count": 41,
   "metadata": {},
   "outputs": [
    {
     "name": "stdout",
     "output_type": "stream",
     "text": [
      "The probability of getting heads after 20 tosses is 0.9999995231628418 \n",
      "The probability of getting tails after 20 tosses is 0.5000004768371582 \n",
      "--------------------------------------------------------\n",
      "The probability of getting heads after 30 tosses is 0.9999999999999996 \n",
      "The probability of getting tails after 30 tosses is 0.5000000000000004 \n",
      "--------------------------------------------------------\n",
      "The probability of getting heads after 50 tosses is 1.0 \n",
      "The probability of getting tails after 50 tosses is 0.5 \n",
      "--------------------------------------------------------\n"
     ]
    }
   ],
   "source": [
    "#\n",
    "# your solution is here\n",
    "#\n",
    "from random import choice\n",
    "a = [0,1/2,1]\n",
    "b = [0,1/2,1]\n",
    "\n",
    "GameCoins(choice(a), choice(b))"
   ]
  },
  {
   "cell_type": "markdown",
   "metadata": {},
   "source": [
    "<h3> Task 7</h3>\n",
    "\n",
    "10 times repeat Task 6 and observe whether the probabilities converge in each time."
   ]
  },
  {
   "cell_type": "code",
   "execution_count": 42,
   "metadata": {},
   "outputs": [
    {
     "name": "stdout",
     "output_type": "stream",
     "text": [
      "The probability of getting heads after 20 tosses is 0 \n",
      "The probability of getting tails after 20 tosses is 0 \n",
      "--------------------------------------------------------\n",
      "The probability of getting heads after 30 tosses is 0 \n",
      "The probability of getting tails after 30 tosses is 0 \n",
      "--------------------------------------------------------\n",
      "The probability of getting heads after 50 tosses is 0 \n",
      "The probability of getting tails after 50 tosses is 0 \n",
      "--------------------------------------------------------\n",
      "The probability of getting heads after 20 tosses is 0 \n",
      "The probability of getting tails after 20 tosses is 0 \n",
      "--------------------------------------------------------\n",
      "The probability of getting heads after 30 tosses is 0 \n",
      "The probability of getting tails after 30 tosses is 0 \n",
      "--------------------------------------------------------\n",
      "The probability of getting heads after 50 tosses is 0 \n",
      "The probability of getting tails after 50 tosses is 0 \n",
      "--------------------------------------------------------\n",
      "The probability of getting heads after 20 tosses is 0 \n",
      "The probability of getting tails after 20 tosses is 1 \n",
      "--------------------------------------------------------\n",
      "The probability of getting heads after 30 tosses is 0 \n",
      "The probability of getting tails after 30 tosses is 1 \n",
      "--------------------------------------------------------\n",
      "The probability of getting heads after 50 tosses is 0 \n",
      "The probability of getting tails after 50 tosses is 1 \n",
      "--------------------------------------------------------\n",
      "The probability of getting heads after 20 tosses is 2 \n",
      "The probability of getting tails after 20 tosses is 0 \n",
      "--------------------------------------------------------\n",
      "The probability of getting heads after 30 tosses is 2 \n",
      "The probability of getting tails after 30 tosses is 0 \n",
      "--------------------------------------------------------\n",
      "The probability of getting heads after 50 tosses is 2 \n",
      "The probability of getting tails after 50 tosses is 0 \n",
      "--------------------------------------------------------\n",
      "The probability of getting heads after 20 tosses is 0.16666650772094727 \n",
      "The probability of getting tails after 20 tosses is 0.33333349227905273 \n",
      "--------------------------------------------------------\n",
      "The probability of getting heads after 30 tosses is 0.16666666666666652 \n",
      "The probability of getting tails after 30 tosses is 0.3333333333333335 \n",
      "--------------------------------------------------------\n",
      "The probability of getting heads after 50 tosses is 0.16666666666666669 \n",
      "The probability of getting tails after 50 tosses is 0.33333333333333337 \n",
      "--------------------------------------------------------\n",
      "The probability of getting heads after 20 tosses is 0 \n",
      "The probability of getting tails after 20 tosses is 0 \n",
      "--------------------------------------------------------\n",
      "The probability of getting heads after 30 tosses is 0 \n",
      "The probability of getting tails after 30 tosses is 0 \n",
      "--------------------------------------------------------\n",
      "The probability of getting heads after 50 tosses is 0 \n",
      "The probability of getting tails after 50 tosses is 0 \n",
      "--------------------------------------------------------\n",
      "The probability of getting heads after 20 tosses is 2 \n",
      "The probability of getting tails after 20 tosses is 0 \n",
      "--------------------------------------------------------\n",
      "The probability of getting heads after 30 tosses is 2 \n",
      "The probability of getting tails after 30 tosses is 0 \n",
      "--------------------------------------------------------\n",
      "The probability of getting heads after 50 tosses is 2 \n",
      "The probability of getting tails after 50 tosses is 0 \n",
      "--------------------------------------------------------\n",
      "The probability of getting heads after 20 tosses is 4.76837158203125e-07 \n",
      "The probability of getting tails after 20 tosses is 0.4999995231628418 \n",
      "--------------------------------------------------------\n",
      "The probability of getting heads after 30 tosses is 4.440892098500626e-16 \n",
      "The probability of getting tails after 30 tosses is 0.49999999999999956 \n",
      "--------------------------------------------------------\n",
      "The probability of getting heads after 50 tosses is 3.944304526105059e-31 \n",
      "The probability of getting tails after 50 tosses is 0.5 \n",
      "--------------------------------------------------------\n",
      "The probability of getting heads after 20 tosses is 1.4999995231628418 \n",
      "The probability of getting tails after 20 tosses is 4.76837158203125e-07 \n",
      "--------------------------------------------------------\n",
      "The probability of getting heads after 30 tosses is 1.4999999999999996 \n",
      "The probability of getting tails after 30 tosses is 4.440892098500626e-16 \n",
      "--------------------------------------------------------\n",
      "The probability of getting heads after 50 tosses is 1.5 \n",
      "The probability of getting tails after 50 tosses is 3.944304526105059e-31 \n",
      "--------------------------------------------------------\n",
      "The probability of getting heads after 20 tosses is 0 \n",
      "The probability of getting tails after 20 tosses is 1 \n",
      "--------------------------------------------------------\n",
      "The probability of getting heads after 30 tosses is 0 \n",
      "The probability of getting tails after 30 tosses is 1 \n",
      "--------------------------------------------------------\n",
      "The probability of getting heads after 50 tosses is 0 \n",
      "The probability of getting tails after 50 tosses is 1 \n",
      "--------------------------------------------------------\n"
     ]
    }
   ],
   "source": [
    "#\n",
    "# your solution is here\n",
    "#\n",
    "\n",
    "for i in range(10):\n",
    "    GameCoins(choice(a), choice(b))\n"
   ]
  },
  {
   "cell_type": "markdown",
   "metadata": {},
   "source": [
    "<h3>Task 8</h3>\n",
    "\n",
    "We can rewrite arbitrary GameCoins as \n",
    "\n",
    "$  \\begin{array}{c|cc} \\hookleftarrow & \\mathbf{Head} & \\mathbf{Tail} \\\\ \\hline \\mathbf{Head} & 1-y & x\\\\  \\mathbf{Tail} & y & 1-x  \\end{array} = \\begin{array}{c|cc} \\hookleftarrow & \\mathbf{0} & \\mathbf{1} \\\\ \\hline \\mathbf{0} & 1-y & x \\\\  \\mathbf{1} & y & 1-x  \\end{array}.\n",
    "$ \n",
    "\n",
    "We assume that it is neither Identity nor NOT operator. Then, independent of the initial state, the system always converges to \n",
    "\n",
    "$ Pr[\\mbox{\"heads\"}] = \\dfrac{x}{x+y} $ and $ Pr[\\mbox{\"tails\"}]=\\dfrac{y}{x+y} $, \n",
    "\n",
    "which are the probabilities of getting heads and tails, respectively.\n",
    "\n",
    "Observe this fact by checking the results of Task 7."
   ]
  },
  {
   "cell_type": "code",
   "execution_count": 51,
   "metadata": {},
   "outputs": [],
   "source": [
    "#\n",
    "# your solution is here\n",
    "#\n",
    "def GameCoins1(x,y, verbose=False):\n",
    "    coin = CoinFlip()\n",
    "    coin.setProba_heads(x)\n",
    "    coin.setProba_tails(y)\n",
    "    prob_heads = coin.getProba_heads()\n",
    "    prob_tails = coin.getProba_tails()\n",
    "    for toss in [20, 30, 50]:\n",
    "        for i in range(toss):\n",
    "            new_prob_heads = prob_heads * (1-y) + prob_tails * x\n",
    "            new_prob_tails = prob_heads * y + prob_tails * (1-x)\n",
    "            prob_heads = new_prob_heads\n",
    "            prob_tails = new_prob_tails\n",
    "        if verbose:\n",
    "            print(f\"The probability of getting heads after {toss} tosses is {prob_heads} \")\n",
    "            print(f\"The probability of getting tails after {toss} tosses is {prob_tails} \")\n",
    "            print(\"--------------------------------------------------------\")\n",
    "    return (prob_heads, prob_tails)"
   ]
  },
  {
   "cell_type": "code",
   "execution_count": 72,
   "metadata": {},
   "outputs": [
    {
     "name": "stdout",
     "output_type": "stream",
     "text": [
      "probability of getting heads converge to 0.0\n",
      "probability of getting tails converge to 0.5\n",
      "probability of getting heads after 100 flips 1\n",
      "probability of getting tails after 100 flips 1\n"
     ]
    }
   ],
   "source": [
    "#choose x and y\n",
    "x = choice(a)\n",
    "y = choice(b)\n",
    "if x == 0 or y == 0:\n",
    "    raise Exception(\"You cannot set x or y to 0\")\n",
    "#convergence\n",
    "tryproba_heads = x/(x+y)\n",
    "proba_tails = y/(x+y)\n",
    "\n",
    "\n",
    "\n",
    "print(f\"probability of getting heads converge to {proba_heads}\")\n",
    "print(f\"probability of getting tails converge to {proba_tails}\")\n",
    "for i in range(100):\n",
    "    prob_heads, prob_tails = GameCoins1(x,y)\n",
    "print(f\"probability of getting heads after 100 flips {prob_heads}\")\n",
    "print(f\"probability of getting tails after 100 flips {prob_tails}\")"
   ]
  },
  {
   "cell_type": "code",
   "execution_count": null,
   "metadata": {},
   "outputs": [],
   "source": []
  }
 ],
 "metadata": {
  "kernelspec": {
   "display_name": "Python 3 (ipykernel)",
   "language": "python",
   "name": "python3"
  },
  "language_info": {
   "codemirror_mode": {
    "name": "ipython",
    "version": 3
   },
   "file_extension": ".py",
   "mimetype": "text/x-python",
   "name": "python",
   "nbconvert_exporter": "python",
   "pygments_lexer": "ipython3",
   "version": "3.9.16"
  }
 },
 "nbformat": 4,
 "nbformat_minor": 4
}
