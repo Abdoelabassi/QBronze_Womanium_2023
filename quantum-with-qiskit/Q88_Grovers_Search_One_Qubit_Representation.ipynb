{
 "cells": [
  {
   "cell_type": "markdown",
   "metadata": {},
   "source": [
    "<a href=\"https://qworld.net\" target=\"_blank\" align=\"left\"><img src=\"../qworld/images/header.jpg\"  align=\"left\"></a>\n",
    "$ \\newcommand{\\bra}[1]{\\langle #1|} $\n",
    "$ \\newcommand{\\ket}[1]{|#1\\rangle} $\n",
    "$ \\newcommand{\\braket}[2]{\\langle #1|#2\\rangle} $\n",
    "$ \\newcommand{\\dot}[2]{ #1 \\cdot #2} $\n",
    "$ \\newcommand{\\biginner}[2]{\\left\\langle #1,#2\\right\\rangle} $\n",
    "$ \\newcommand{\\mymatrix}[2]{\\left( \\begin{array}{#1} #2\\end{array} \\right)} $\n",
    "$ \\newcommand{\\myvector}[1]{\\mymatrix{c}{#1}} $\n",
    "$ \\newcommand{\\myrvector}[1]{\\mymatrix{r}{#1}} $\n",
    "$ \\newcommand{\\mypar}[1]{\\left( #1 \\right)} $\n",
    "$ \\newcommand{\\mybigpar}[1]{ \\Big( #1 \\Big)} $\n",
    "$ \\newcommand{\\sqrttwo}{\\frac{1}{\\sqrt{2}}} $\n",
    "$ \\newcommand{\\dsqrttwo}{\\dfrac{1}{\\sqrt{2}}} $\n",
    "$ \\newcommand{\\onehalf}{\\frac{1}{2}} $\n",
    "$ \\newcommand{\\donehalf}{\\dfrac{1}{2}} $\n",
    "$ \\newcommand{\\hadamard}{ \\mymatrix{rr}{ \\sqrttwo & \\sqrttwo \\\\ \\sqrttwo & -\\sqrttwo }} $\n",
    "$ \\newcommand{\\vzero}{\\myvector{1\\\\0}} $\n",
    "$ \\newcommand{\\vone}{\\myvector{0\\\\1}} $\n",
    "$ \\newcommand{\\stateplus}{\\myvector{ \\sqrttwo \\\\  \\sqrttwo } } $\n",
    "$ \\newcommand{\\stateminus}{ \\myrvector{ \\sqrttwo \\\\ -\\sqrttwo } } $\n",
    "$ \\newcommand{\\myarray}[2]{ \\begin{array}{#1}#2\\end{array}} $\n",
    "$ \\newcommand{\\X}{ \\mymatrix{cc}{0 & 1 \\\\ 1 & 0}  } $\n",
    "$ \\newcommand{\\I}{ \\mymatrix{rr}{1 & 0 \\\\ 0 & 1}  } $\n",
    "$ \\newcommand{\\Z}{ \\mymatrix{rr}{1 & 0 \\\\ 0 & -1}  } $\n",
    "$ \\newcommand{\\Htwo}{ \\mymatrix{rrrr}{ \\frac{1}{2} & \\frac{1}{2} & \\frac{1}{2} & \\frac{1}{2} \\\\ \\frac{1}{2} & -\\frac{1}{2} & \\frac{1}{2} & -\\frac{1}{2} \\\\ \\frac{1}{2} & \\frac{1}{2} & -\\frac{1}{2} & -\\frac{1}{2} \\\\ \\frac{1}{2} & -\\frac{1}{2} & -\\frac{1}{2} & \\frac{1}{2} } } $\n",
    "$ \\newcommand{\\CNOT}{ \\mymatrix{cccc}{1 & 0 & 0 & 0 \\\\ 0 & 1 & 0 & 0 \\\\ 0 & 0 & 0 & 1 \\\\ 0 & 0 & 1 & 0} } $\n",
    "$ \\newcommand{\\norm}[1]{ \\left\\lVert #1 \\right\\rVert } $\n",
    "$ \\newcommand{\\pstate}[1]{ \\lceil \\mspace{-1mu} #1 \\mspace{-1.5mu} \\rfloor } $\n",
    "$ \\newcommand{\\greenbit}[1] {\\mathbf{{\\color{green}#1}}} $\n",
    "$ \\newcommand{\\bluebit}[1] {\\mathbf{{\\color{blue}#1}}} $\n",
    "$ \\newcommand{\\redbit}[1] {\\mathbf{{\\color{red}#1}}} $\n",
    "$ \\newcommand{\\brownbit}[1] {\\mathbf{{\\color{brown}#1}}} $\n",
    "$ \\newcommand{\\blackbit}[1] {\\mathbf{{\\color{black}#1}}} $"
   ]
  },
  {
   "cell_type": "markdown",
   "metadata": {},
   "source": [
    "<font style=\"font-size:28px;\" align=\"left\"><b> Grover's Search: One Qubit Representation </b></font>\n",
    "<br>\n",
    "_prepared by Abuzer Yakaryilmaz_\n",
    "<br><br>\n",
    "[<img src=\"../qworld/images/watch_lecture.jpg\" align=\"left\">](https://youtu.be/VwzshIQsDBA)\n",
    "<br><br><br>"
   ]
  },
  {
   "cell_type": "markdown",
   "metadata": {},
   "source": [
    "The execution of Grover's search algorithm can be simulated on the unit circle. \n",
    "\n",
    "Throughout the computation, the amplitudes of the marked (or unmarked) elements never differ from each other. Therefore, we can group the elements as marked and unmarked elements. \n",
    "\n",
    "As the length of the list is 1, we can represent the list as an unit vector on the unit circle where the vertical line ($y$-axis) represents the marked elements and horizontal line ($x$-axis) represents the unmarked elements. \n",
    "\n",
    "We draw an example unit circle by using python below."
   ]
  },
  {
   "cell_type": "code",
   "execution_count": 1,
   "metadata": {},
   "outputs": [
    {
     "data": {
      "image/png": "[encoded data removed]",
      "text/plain": [
       "<Figure size 420x420 with 1 Axes>"
      ]
     },
     "metadata": {},
     "output_type": "display_data"
    }
   ],
   "source": [
    "%run quantum.py\n",
    "draw_qubit_grover()\n",
    "draw_quantum_state((7/8)**0.5,(1/8)**0.5,\"|u>\")\n",
    "show_plt()"
   ]
  },
  {
   "cell_type": "markdown",
   "metadata": {},
   "source": [
    "### Example: N = 8 with 3 marked elements"
   ]
  },
  {
   "cell_type": "markdown",
   "metadata": {},
   "source": [
    "Suppose that the 3rd, 4th, and 7th elements are marked. We can use three qubits and we can associate each element with one of basis states:\n",
    "\n",
    "$$ \\myarray{|c|c|}{\n",
    "\\hline element & state \\\\ \\hline\n",
    "1st & \\ket{000} \\\\ \\hline\n",
    "2nd & \\ket{001} \\\\ \\hline\n",
    "\\mathbf{3rd} & \\mathbf{\\ket{010}} \\\\ \\hline\n",
    "\\mathbf{4th} & \\mathbf{\\ket{011}} \\\\ \\hline\n",
    "5th & \\ket{100} \\\\ \\hline\n",
    "6th & \\ket{101} \\\\ \\hline\n",
    "\\mathbf{7th} & \\mathbf{\\ket{110}} \\\\ \\hline\n",
    "8th & \\ket{111} \\\\ \\hline\n",
    "} $$\n",
    "\n",
    "Grover's search algorithm starts in the following quantum state:\n",
    "\n",
    "$$ \\ket{u} =  H\\ket{0} \\otimes H \\ket{0} \\otimes H \\ket{0} = H^{\\otimes 3} \\ket{000} $$\n",
    "\n",
    "$$ \\ket{u} =  \\mypar{ \\frac{1}{\\sqrt{2}} \\ket{0} + \\frac{1}{\\sqrt{2}} \\ket{1}  } \\otimes\n",
    "    \\mypar{ \\frac{1}{\\sqrt{2}} \\ket{0} + \\frac{1}{\\sqrt{2}} \\ket{1}  } \\otimes\n",
    "    \\mypar{ \\frac{1}{\\sqrt{2}} \\ket{0} + \\frac{1}{\\sqrt{2}} \\ket{1}  } $$\n",
    "\n",
    "$$ \\ket{u} = \\frac{1}{2\\sqrt{2}} \\ket{000} +  \\frac{1}{2\\sqrt{2}} \\ket{001} +  \\frac{1}{2\\sqrt{2}} \\ket{010} +  \\frac{1}{2\\sqrt{2}} \\ket{011} +  \\frac{1}{2\\sqrt{2}} \\ket{100} +  \\frac{1}{2\\sqrt{2}} \\ket{101} +  \\frac{1}{2\\sqrt{2}} \\ket{110} +  \\frac{1}{2\\sqrt{2}} \\ket{111}.  $$\n",
    "\n",
    "We group them as unmarked and marked elements:\n",
    "\n",
    "$$ \\ket{u} = \n",
    "    \\underbrace{ \\frac{1}{2\\sqrt{2}} \\big( \\ket{000} + \\ket{001} + \\ket{100} + \\ket{101} + \\ket{111} \\big) }_{\\ket{u_{x}}}  + \n",
    "    \\underbrace{ \\frac{1}{2\\sqrt{2}}  \\big(\\mathbf{  \\ket{010} + \\ket{011} + \\ket{110} } \\big) }_{\\ket{u_{y}}}\n",
    "$$\n",
    "\n",
    "or as vectors\n",
    "\n",
    "$$ \\ket{u} = \\ket{u_{x}} + \\ket{u_{y}} = \n",
    "     \\frac{1}{2\\sqrt{2}} \\myvector{1 \\\\ 1 \\\\ 0 \\\\ 0 \\\\ 1 \\\\ 1 \\\\ 0 \\\\ 1} \n",
    "    + \\frac{1}{2\\sqrt{2}}  \\myvector{0 \\\\ 0 \\\\ 1 \\\\ 1 \\\\ 0 \\\\ 0 \\\\ 1 \\\\ 0}   \n",
    "$$\n",
    "\n",
    "How can we represent this state on the unit circle?"
   ]
  },
  {
   "cell_type": "markdown",
   "metadata": {},
   "source": [
    "#### Orthogonality of $ \\ket{u_{x}} $ and $ \\ket{u_{y}} $\n",
    "\n",
    "It is clear that the quantum states $ \\ket{u_{x}} $ and $ \\ket{u_{y}} $ are orthogonal to each other, i.e., the pairwise multiplication of entries result in zero and so their summation is also zero: $ \\ket{u_{unmarked}} \\perp \\ket{u_{marked}} $. \n",
    "\n",
    "On the unit circle, the state $ \\ket{0} $ and $ \\ket{1} $ are orthogonal to each other, and so, we can represent (map) $ \\ket{u} = \\ket{u_{x}} + \\ket{u_{y}} $ on the unit circle as\n",
    "\n",
    "$$ \\ket{u} \\rightarrow \\alpha \\ket{0} + \\beta \\ket{1} $$\n",
    "\n",
    "or by re-naming the basis states\n",
    "\n",
    "$$ \\ket{u} \\rightarrow \\alpha \\ket{unmarked} + \\beta \\ket{marked}. $$"
   ]
  },
  {
   "cell_type": "markdown",
   "metadata": {},
   "source": [
    "#### How can we determine the amplitudes of the states $ \\ket{0} $ and $ \\ket{1} $ based on the amplitudes of the marked and unmarked elements?\n",
    "\n",
    "We can rewrite $ \\ket{u} $ as follows:\n",
    "\n",
    "$$ \\ket{u} = \\ket{u_{x}} + \\ket{u_{y}} = \\frac{\\sqrt{5}}{2\\sqrt{2}} \\myvector{\\frac{1}{\\sqrt{5}} \\\\ \\frac{1}{\\sqrt{5}}  \\\\ 0 \\\\ 0 \\\\ \\frac{1}{\\sqrt{5}} \\\\ \\frac{1}{\\sqrt{5}}  \\\\ 0 \\\\ \\frac{1}{\\sqrt{5}} } + \\frac{\\sqrt{3}}{2\\sqrt{2}}  \\myvector{0 \\\\ 0 \\\\ \\frac{1}{\\sqrt{3}}  \\\\ \\frac{1}{\\sqrt{3}}  \\\\ 0 \\\\ 0 \\\\ \\frac{1}{\\sqrt{3}}  \\\\ 0}\n",
    "= \\frac{\\sqrt{5}}{2\\sqrt{2}} \\ket{unmarked} + \\frac{\\sqrt{3}}{2\\sqrt{2}} \\ket{marked},\n",
    "$$\n",
    "\n",
    "where both $ \\ket{unmarked} $ and $ \\ket{marked} $ are unit vectors and orthogonal to each other.\n",
    "\n",
    "Thus, we can represent $ \\ket{u} $ on the unit circle by the following conversion:\n",
    "\n",
    "$$\n",
    "    \\ket{u} = \\frac{\\sqrt{5}}{2\\sqrt{2}} \\ket{unmarked} + \\frac{\\sqrt{3}}{2\\sqrt{2}} \\ket{marked} \\xrightarrow{~~~~\\mbox{unit circle}~~~~}\n",
    "    \\frac{\\sqrt{5}}{2\\sqrt{2}} \\ket{0} + \\frac{\\sqrt{3}}{2\\sqrt{2}} \\ket{1}.\n",
    "$$\n",
    "\n",
    "We draw the obtained unit circle by using python below."
   ]
  },
  {
   "cell_type": "code",
   "execution_count": 1,
   "metadata": {},
   "outputs": [
    {
     "data": {
      "image/png": "[encoded data removed]",
      "text/plain": [
       "<Figure size 420x420 with 1 Axes>"
      ]
     },
     "metadata": {},
     "output_type": "display_data"
    }
   ],
   "source": [
    "%run quantum.py\n",
    "draw_qubit_grover()\n",
    "draw_quantum_state((5/8)**0.5,(3/8)**0.5,\"|u>\")\n",
    "show_plt()"
   ]
  },
  {
   "cell_type": "markdown",
   "metadata": {},
   "source": [
    "#### The amplitudes of $ \\ket{marked} $ and $ \\ket{unmarked} $ during the computation\n",
    "\n",
    "Remark that, after each phase of Grover's algorithm, the entries of $ \\ket{marked} $ and $ \\ket{unmarked} $ do not change (see also below). \n",
    "\n",
    "Any quantum state during the computation of Grover's algorithm can be represented, for some $ a,b $, as\n",
    "\n",
    "$$ \\ket{u_j} = \\ket{u_{j,x}} + \\ket{u_{j,y}} = \\myvector{ a \\\\ a  \\\\ 0 \\\\ 0 \\\\ a \\\\ a  \\\\ 0 \\\\ a } +  \\myvector{0 \\\\ 0 \\\\b \\\\ b  \\\\ 0 \\\\ 0 \\\\ b  \\\\ 0} =\n",
    "a \\sqrt{5} \\myvector{\\frac{1}{\\sqrt{5}} \\\\ \\frac{1}{\\sqrt{5}}  \\\\ 0 \\\\ 0 \\\\ \\frac{1}{\\sqrt{5}} \\\\ \\frac{1}{\\sqrt{5}}  \\\\ 0 \\\\ \\frac{1}{\\sqrt{5}} } + b \\sqrt{3} \\myvector{0 \\\\ 0 \\\\ \\frac{1}{\\sqrt{3}}  \\\\ \\frac{1}{\\sqrt{3}}  \\\\ 0 \\\\ 0 \\\\ \\frac{1}{\\sqrt{3}}  \\\\ 0} = a\\sqrt{5} ~ \\ket{unmarked} + b\\sqrt{3} ~ \\ket{marked}.\n",
    "$$\n",
    "\n",
    "As a generic rule:\n",
    "\n",
    "For $ N $ elements with $ k $ marked ones, if the amplitudes of an unmarked and a marked elements are $ a $ and $ b $, respectively, then the quantum state can be represented as\n",
    "\n",
    "$$ a\\sqrt{N-k} ~ \\ket{unmarked} + b \\sqrt{k} ~ \\ket{marked}. $$ "
   ]
  },
  {
   "cell_type": "markdown",
   "metadata": {},
   "source": [
    "## Visualization of Grover's Search algorithm\n",
    "\n",
    "In this section, we execute Grover's search algorithm by using the modified game explained in notebook [Inversion About the Mean](B80_Inversion_About_the_Mean.ipynb). \n",
    "\n",
    "You may use your functions *oracle* and *inversion* in [Task 2](B80_Inversion_About_the_Mean.ipynb#task2) in the same notebook.\n",
    "\n",
    "*For simplicity, we assume that the first element is always marked and the last element is always unmarked.*"
   ]
  },
  {
   "cell_type": "markdown",
   "metadata": {},
   "source": [
    "<h3> Task 1 </h3>\n",
    "\n",
    "Execute Grover's search algorithm for 5 steps where $ N = 16 $ and the first element is marked.\n",
    "\n",
    "Draw all quantum states on the unit circle during the execution.\n",
    "\n",
    "Print the angle of each state in degree (use $\\sin^{-1}$), and check whether there is any pattern for the oracle and inversion operators?\n",
    "\n",
    "Is there any pattern for each step of Grover's algorithm?"
   ]
  },
  {
   "cell_type": "code",
   "execution_count": 2,
   "metadata": {},
   "outputs": [],
   "source": [
    "def query(elements=[1],marked_elements=[0]):\n",
    "    for i in marked_elements:\n",
    "        elements[i] = -1 * elements[i]    \n",
    "    return elements\n",
    "\n",
    "def inversion (elements=[1]):\n",
    "    # summation of all values\n",
    "    summation = 0\n",
    "    for i in range(len(elements)):\n",
    "        summation += elements[i]\n",
    "\n",
    "    # mean of all values\n",
    "    mean = summation / len(elements)\n",
    "\n",
    "    # reflection over mean\n",
    "    for i in range(len(elements)):\n",
    "        value = elements[i]\n",
    "        new_value = mean - (elements[i]-mean)\n",
    "        elements[i] = new_value   \n",
    "    return elements"
   ]
  },
  {
   "cell_type": "code",
   "execution_count": 8,
   "metadata": {},
   "outputs": [
    {
     "name": "stdout",
     "output_type": "stream",
     "text": [
      "angle in degrees\n",
      "14.477512185929923\n",
      "-14.477512185929923\n",
      "43.432536557789774\n",
      "-43.432536557789774\n",
      "72.38756092964962\n",
      "-72.38756092964962\n",
      "78.65741469849054\n",
      "-78.65741469849054\n",
      "49.702390326630685\n",
      "-49.702390326630685\n",
      "20.74736595477084\n"
     ]
    },
    {
     "data": {
      "image/png": "[encoded data removed]",
      "text/plain": [
       "<Figure size 420x420 with 1 Axes>"
      ]
     },
     "metadata": {},
     "output_type": "display_data"
    }
   ],
   "source": [
    "from math import asin, pi\n",
    "\n",
    "# initial values\n",
    "iteration = 5\n",
    "N = 16\n",
    "marked_elements = [0]\n",
    "k = len(marked_elements)\n",
    "elements = []\n",
    "states_on_unit_circle= []\n",
    "\n",
    "\n",
    "\n",
    "# initial quantum state\n",
    "for i in range(N):\n",
    "    elements.append(1/N**0.5)\n",
    "\n",
    "#\n",
    "# your code is here\n",
    "#\n",
    "x = elements[N-1]*(N-k)**0.5\n",
    "y = elements[0]*(k)**0.5\n",
    "\n",
    "states_on_unit_circle.append([x,y,\"0\"])\n",
    "for step in range(iteration):\n",
    "\n",
    "    elements = query(elements, marked_elements)\n",
    "    x = elements[N-1]*(N-k)**0.5\n",
    "    y = elements[0]*(k)**0.5\n",
    "    states_on_unit_circle.append([x,y,str(step)])\n",
    "    elements = inversion(elements)\n",
    "    x = elements[N-1]*(N-k)**0.5\n",
    "    y = elements[0]*(k)**0.5\n",
    "    states_on_unit_circle.append([x, y, str(step)])\n",
    "\n",
    "\n",
    "\n",
    "\n",
    "%run quantum.py\n",
    "draw_qubit_grover()\n",
    "for state in states_on_unit_circle:\n",
    "    draw_quantum_state(state[0],state[1], state[2])\n",
    "\n",
    "print(\"angle in degrees\")\n",
    "for state in states_on_unit_circle:\n",
    "    print(asin(state[1])/pi*180)"
   ]
  },
  {
   "cell_type": "markdown",
   "metadata": {},
   "source": [
    "<a href=\"Q88_Grovers_Search_One_Qubit_Representation_Solutions.ipynb#task1\">click for our solution</a>"
   ]
  },
  {
   "cell_type": "markdown",
   "metadata": {},
   "source": [
    "<h3> Task 2 </h3>\n",
    "\n",
    "In Task 1, after which step the probability of observing a marked element is the highest?"
   ]
  },
  {
   "cell_type": "markdown",
   "metadata": {},
   "source": [
    "<a href=\"Q88_Grovers_Search_One_Qubit_Representation_Solutions.ipynb#task2\">click for our solution</a>"
   ]
  },
  {
   "cell_type": "markdown",
   "metadata": {},
   "source": [
    "<h3> Task 3 </h3>\n",
    "\n",
    "We have a list of size $ N = 128 $. We iterate Grover's search algorithm 10 steps.\n",
    "\n",
    "Visually determine (i.e., Tasks 1 & 2) the good number of iterations if the number of marked elements is 1, 2, 4, or 8. (The quantum state on the unit circle should be close to the $y$-axis.)"
   ]
  },
  {
   "cell_type": "code",
   "execution_count": null,
   "metadata": {},
   "outputs": [],
   "source": [
    "def query(elements=[1],marked_elements=[0]):\n",
    "    for i in marked_elements:\n",
    "        elements[i] = -1 * elements[i]    \n",
    "    return elements\n",
    "\n",
    "def inversion (elements=[1]):\n",
    "    # summation of all values\n",
    "    summation = 0\n",
    "    for i in range(len(elements)):\n",
    "        summation += elements[i]\n",
    "\n",
    "    # mean of all values\n",
    "    mean = summation / len(elements)\n",
    "\n",
    "    # reflection over mean\n",
    "    for i in range(len(elements)):\n",
    "        value = elements[i]\n",
    "        new_value = mean - (elements[i]-mean)\n",
    "        elements[i] = new_value   \n",
    "    return elements"
   ]
  },
  {
   "cell_type": "code",
   "execution_count": null,
   "metadata": {},
   "outputs": [],
   "source": [
    "from math import asin, pi\n",
    "\n",
    "# initial values\n",
    "iteration = 10\n",
    "N = 128\n",
    "marked_elements = [0]\n",
    "#marked_elements = [0,1]\n",
    "#marked_elements = [0,1,2,3]\n",
    "#marked_elements = [0,1,2,3,4,5,6,7]\n",
    "k = len(marked_elements)\n",
    "elements = []\n",
    "states_on_unit_circle= []\n",
    "\n",
    "# initial quantum state\n",
    "for i in range(N):\n",
    "    elements.append(1/N**0.5)\n",
    "\n",
    "#\n",
    "# your code is here\n",
    "#\n",
    "\n",
    "# %run qlatvia.py\n",
    "# draw_qubit_grover()\n",
    "# draw_quantum_state(x,y,name)"
   ]
  },
  {
   "cell_type": "markdown",
   "metadata": {},
   "source": [
    "<a href=\"Q88_Grovers_Search_One_Qubit_Representation_Solutions.ipynb#task3\">click for our solution</a>"
   ]
  },
  {
   "cell_type": "markdown",
   "metadata": {},
   "source": [
    "<h3> Task 4 </h3>\n",
    "\n",
    "We have a list of size $ N = 256 $. We iterate Grover's search algorithm 20 (or 10) steps.\n",
    "\n",
    "Visually determine (i.e., Tasks 1 & 2) the good number of iterations if the number of marked elements is 1, 2, 4, or 8. (The quantum state on the unit circle should be close to the $y$-axis.)"
   ]
  },
  {
   "cell_type": "code",
   "execution_count": null,
   "metadata": {},
   "outputs": [],
   "source": [
    "def query(elements=[1],marked_elements=[0]):\n",
    "    for i in marked_elements:\n",
    "        elements[i] = -1 * elements[i]    \n",
    "    return elements\n",
    "\n",
    "def inversion (elements=[1]):\n",
    "    # summation of all values\n",
    "    summation = 0\n",
    "    for i in range(len(elements)):\n",
    "        summation += elements[i]\n",
    "\n",
    "    # mean of all values\n",
    "    mean = summation / len(elements)\n",
    "\n",
    "    # reflection over mean\n",
    "    for i in range(len(elements)):\n",
    "        value = elements[i]\n",
    "        new_value = mean - (elements[i]-mean)\n",
    "        elements[i] = new_value   \n",
    "    return elements"
   ]
  },
  {
   "cell_type": "code",
   "execution_count": null,
   "metadata": {},
   "outputs": [],
   "source": [
    "from math import asin, pi\n",
    "\n",
    "# initial values\n",
    "iteration = 20\n",
    "N = 256\n",
    "marked_elements = [0]\n",
    "#marked_elements = [0,1]\n",
    "#marked_elements = [0,1,2,3]\n",
    "#marked_elements = [0,1,2,3,4,5,6,7]\n",
    "k = len(marked_elements)\n",
    "elements = []\n",
    "states_on_unit_circle= []\n",
    "\n",
    "# initial quantum state\n",
    "for i in range(N):\n",
    "    elements.append(1/N**0.5)\n",
    "\n",
    "#\n",
    "# your code is here\n",
    "#\n",
    "\n",
    "# %run qlatvia.py\n",
    "# draw_qubit_grover()\n",
    "# draw_quantum_state(x,y,name)"
   ]
  },
  {
   "cell_type": "markdown",
   "metadata": {},
   "source": [
    "<a href=\"Q88_Grovers_Search_One_Qubit_Representation_Solutions.ipynb#task4\">click for our solution</a>"
   ]
  },
  {
   "cell_type": "markdown",
   "metadata": {},
   "source": [
    "## More on Grover's search algorithm\n",
    "\n",
    "The idea behind Grover's search algorithm is that\n",
    "<ul>\n",
    "    <li> the amplitudes of the marked (less frequent) elements can be quickly amplified, </li>\n",
    "    <li> and so the probability of observing one of the marked elements quickly approches to 1.</li>\n",
    "</ul>\n",
    "\n",
    "For \"quick\" amplification, we iteratively apply two reflections to our quantum states. \n",
    "\n",
    "The first reflection is a clockwise rotation, and the second reflection is a counterclockwise rotation. \n",
    "\n",
    "The second reflection always rotates $ 2 \\theta $ degree more than the first reflection, where the $ \\theta $ is the angle of this initial state on the unit circle.\n",
    "\n",
    "Therefore, the quantum state is rotated by $ 2 \\theta $ in counter-clockwise direction after two reflections."
   ]
  },
  {
   "cell_type": "markdown",
   "metadata": {},
   "source": [
    "### Example Reflections\n",
    "\n",
    "We closely look at the initial part of Task 1 by explictly drawing the reflection lines.\n",
    "\n",
    "Suppose that we have 16 elements and one of them is marked.\n",
    "\n",
    "**Below we draw the first reflection line with green color and the second reflection line with yellow color.**"
   ]
  },
  {
   "cell_type": "code",
   "execution_count": null,
   "metadata": {},
   "outputs": [],
   "source": [
    "%run quantum.py\n",
    "import matplotlib.pyplot as plt\n",
    "draw_qubit_grover()\n",
    "plt.arrow(-1.2587,-0.325,2*1.2587,0.65,color=\"y\",width=0.004)\n",
    "plt.arrow(-1.3,0,2.6,0,color=\"g\",width=0.004)\n",
    "show_plt()"
   ]
  },
  {
   "cell_type": "markdown",
   "metadata": {},
   "source": [
    "**After the Hadamard operators, we start with the following state.**"
   ]
  },
  {
   "cell_type": "code",
   "execution_count": null,
   "metadata": {},
   "outputs": [],
   "source": [
    "%run quantum.py\n",
    "import matplotlib.pyplot as plt\n",
    "draw_qubit_grover()\n",
    "plt.arrow(-1.2587,-0.325,2*1.2587,0.65,color=\"y\",width=0.004)\n",
    "plt.arrow(-1.3,0,2.6,0,color=\"g\",width=0.004)\n",
    "draw_quantum_state((15/16)**0.5,(1/16)**0.5,\"$|u_0>$\")\n",
    "show_plt()"
   ]
  },
  {
   "cell_type": "markdown",
   "metadata": {},
   "source": [
    "**Iteration 1, after the first reflection:**"
   ]
  },
  {
   "cell_type": "code",
   "execution_count": null,
   "metadata": {},
   "outputs": [],
   "source": [
    "%run quantum.py\n",
    "import matplotlib.pyplot as plt\n",
    "draw_qubit_grover()\n",
    "plt.arrow(-1.2587,-0.325,2*1.2587,0.65,color=\"y\",width=0.004)\n",
    "plt.arrow(-1.3,0,2.6,0,color=\"g\",width=0.004)\n",
    "draw_quantum_state((15/16)**0.5,(1/16)**0.5,\"$|u_0>$\")\n",
    "draw_quantum_state((15/16)**0.5,-(1/16)**0.5,\"$|u'_0>$\")\n",
    "show_plt()"
   ]
  },
  {
   "cell_type": "markdown",
   "metadata": {},
   "source": [
    "**Iteration 1, after the second reflection:**"
   ]
  },
  {
   "cell_type": "code",
   "execution_count": null,
   "metadata": {},
   "outputs": [],
   "source": [
    "%run quantum.py\n",
    "import matplotlib.pyplot as plt\n",
    "draw_qubit_grover()\n",
    "plt.arrow(-1.2587,-0.325,2*1.2587,0.65,color=\"y\",width=0.004)\n",
    "plt.arrow(-1.3,0,2.6,0,color=\"g\",width=0.004)\n",
    "draw_quantum_state((15/16)**0.5,-(1/16)**0.5,\"$|u'_0>$\")\n",
    "draw_quantum_state(0.7262,0.6875,\"$|u_1>$\")\n",
    "show_plt()"
   ]
  },
  {
   "cell_type": "markdown",
   "metadata": {},
   "source": [
    "**Iteration 2, after the first reflection:**"
   ]
  },
  {
   "cell_type": "code",
   "execution_count": null,
   "metadata": {},
   "outputs": [],
   "source": [
    "%run quantum.py\n",
    "import matplotlib.pyplot as plt\n",
    "draw_qubit_grover()\n",
    "plt.arrow(-1.2587,-0.325,2*1.2587,0.65,color=\"y\",width=0.004)\n",
    "plt.arrow(-1.3,0,2.6,0,color=\"g\",width=0.004)\n",
    "draw_quantum_state(0.7262,0.6875,\"$|u_1>$\")\n",
    "draw_quantum_state(0.7262,-0.6875,\"$|u'_1>$\")\n",
    "show_plt()"
   ]
  },
  {
   "cell_type": "markdown",
   "metadata": {},
   "source": [
    "**Iteration 2, after the second reflection:**"
   ]
  },
  {
   "cell_type": "code",
   "execution_count": null,
   "metadata": {},
   "outputs": [],
   "source": [
    "%run quantum.py\n",
    "import matplotlib.pyplot as plt\n",
    "draw_qubit_grover()\n",
    "plt.arrow(-1.2587,-0.325,2*1.2587,0.65,color=\"y\",width=0.004)\n",
    "plt.arrow(-1.3,0,2.6,0,color=\"g\",width=0.004)\n",
    "draw_quantum_state(0.7262,-0.6875,\"$|u'_1>$\")\n",
    "draw_quantum_state(0.3026,0.9531,\"$|u_2>$\")\n",
    "show_plt()"
   ]
  },
  {
   "cell_type": "markdown",
   "metadata": {},
   "source": [
    "### When to Stop\n",
    "\n",
    "When iterating Grover's search algorithm, we should be careful when to stop. \n",
    "<ul>\n",
    "    <li> Because, after hitting a maximum value, these amplitudes start to quickly decrease, and after hitting a minimum value, they are amplified again, and so on.</li>\n",
    "</ul>\n",
    "\n",
    "As a trivial example, we consider the rotation on the unit circle with angle $ \\frac{\\pi}{8} $ that starts in $ \\ket{0} $. \n",
    "<ul>\n",
    "    <li> After every 4 rotations, we visit states $ \\ket{1} $, $ -\\ket{0} $, $ -\\ket{1} $, again $ \\ket{0} $, and so on. </li>\n",
    "    <li> Remark that the probability of observing the state $ \\ket{1} $ oscillates between 0 and 1 while rotating. </li>\n",
    "</ul>"
   ]
  },
  {
   "cell_type": "markdown",
   "metadata": {},
   "source": [
    "<h3> The number of iterations </h3>\n",
    "\n",
    "If there is a single marked element in a list of size $ N $, then $ \\pi \\dfrac{\\sqrt{N}}{4} $ iterations can give the marked element with high probability.\n",
    "\n",
    "If there are $k$ marked elements, then it is better to iterate $ \\pi \\dfrac{\\sqrt{\\frac{N}{k}}}{4} $ times.\n",
    "\n",
    "If $k$ is unknown, then we can execute the algorithm with different iterations. One way of doing this is to iterate the algorithm  \n",
    "<br>\n",
    "$ \\pi \\dfrac{\\sqrt{\\frac{N}{1}}}{4}, \\pi \\dfrac{\\sqrt{\\frac{N}{2}}}{4}, \\pi \\dfrac{\\sqrt{\\frac{N}{4}}}{4}, \\pi \\dfrac{\\sqrt{\\frac{N}{8}}}{4}, \\ldots $ times. \n",
    "\n",
    "The total number of iterations will still be proportional to $ \\pi \\dfrac{\\sqrt{N}}{4} $: $ O \\Big( \\pi \\dfrac{\\sqrt{N}}{4} \\Big) $.\n"
   ]
  },
  {
   "cell_type": "markdown",
   "metadata": {},
   "source": [
    "### Mathematical derivation of the reflection by inversion (optional)\n",
    "\n",
    "_(You will see a similar but alternative derivation in the next notebook.)_\n",
    "\n",
    "It is clear that query operators reflect the quantum state on the unit circle over $ x $-axis.\n",
    "\n",
    "On the other hand, the inversion operator reflects the quantum state on the unit circle over the line defined by the initial state, say $ \\ket{u} $. This fact is not so obvious and we present here how to derive it. ($ \\bra{u} $ is the conjugate transpose of the vector $ \\ket{u} $.)\n",
    "\n",
    "The initial quantum state is $ \\ket{u} = \\myvector{\\frac{1}{\\sqrt{N}} \\\\ \\vdots \\\\ \\frac{1}{\\sqrt{N}}}$ and the inversion is a linear operator and represented by the matrix:\n",
    "\n",
    "$$ D = 2 \\mymatrix{ccc}{\n",
    "    \\frac{1}{N}  & \\cdots & \\frac{1}{N} \\\\ \n",
    "    \\vdots & \\ddots & \\vdots \\\\\n",
    "    \\frac{1}{N}  & \\cdots & \\frac{1}{N} \\\\ \n",
    "    } \n",
    "- I . $$\n",
    "\n",
    "Since $ \\ket{u} \\bra{u} = \\mymatrix{ccc}{\n",
    "    \\frac{1}{N}  & \\cdots & \\frac{1}{N} \\\\ \n",
    "    \\vdots & \\ddots & \\vdots \\\\\n",
    "    \\frac{1}{N}  & \\cdots & \\frac{1}{N} \\\\ \n",
    "    } $, we can represent $ D $ in terms of $ \\ket{u} $ as $ D = 2 \\ket{u} \\bra{u} - I$.\n",
    "    \n",
    "Let our current quantum state be $a \\ket{u} + b \\ket{u^\\perp}$, where $\\ket{u^\\perp}$ denotes the state, which is orthogonal (perpendicular) to $\\ket{u}$. After applying $D$ to our current quantum state, we obtain\n",
    "\n",
    "$$D \\big(a \\ket{u} + b \\ket{u^\\perp}\\big) = \\big(2 \\ket{u} \\bra{u} - I \\big) \\big(a \\ket{u} + b \\ket{u^\\perp} \\big) = a \\big(2 \\ket{u} \\bra{u} \\ket{u} - \\ket{u} \\big) + b \\big(2 \\ket{u} \\bra{u} \\ket{u^\\perp} - \\ket{u^\\perp} \\big). $$\n",
    "\n",
    "To simplify this equation, we use the following two facts:\n",
    "<ul>\n",
    "    <li>$\\bra{u} \\ket{u} = 1$, because the inner product of a quantum state gives its length square, which is equal to 1;</li>\n",
    "    <li>$\\bra{u} \\ket{u^\\perp} = 0$, because the states are orthogonal to each other.</li>\n",
    "</ul>\n",
    "\n",
    "$$ a \\big( 2 \\ket{u} \\bra{u} \\ket{u} - \\ket{u} \\big) + b \\big( 2 \\ket{u} \\bra{u} \\ket{u^\\perp} - \\ket{u^\\perp} \\big) = a \\big( 2 \\ket{u} - \\ket{u} \\big) + b \\big( 2 \\ket{u} \\cdot 0 - \\ket{u^\\perp} \\big) = a \\ket{u} - b \\ket{u^\\perp}. $$ \n",
    "\n",
    "As $D (a \\ket{u} + b \\ket{u^\\perp}) = a \\ket{u} - b \\ket{u^\\perp}$, we conclude that $D$ is a reflection over axis formed by the state $\\ket{u}$."
   ]
  }
 ],
 "metadata": {
  "kernelspec": {
   "display_name": "Qbronze-qiskit_env",
   "language": "python",
   "name": "qbronze-qiskit_env"
  },
  "language_info": {
   "codemirror_mode": {
    "name": "ipython",
    "version": 3
   },
   "file_extension": ".py",
   "mimetype": "text/x-python",
   "name": "python",
   "nbconvert_exporter": "python",
   "pygments_lexer": "ipython3",
   "version": "3.9.16"
  }
 },
 "nbformat": 4,
 "nbformat_minor": 4
}
