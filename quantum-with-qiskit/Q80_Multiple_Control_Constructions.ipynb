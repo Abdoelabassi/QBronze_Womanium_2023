{
 "cells": [
  {
   "cell_type": "markdown",
   "metadata": {},
   "source": [
    "<a href=\"https://qworld.net\" target=\"_blank\" align=\"left\"><img src=\"../qworld/images/header.jpg\"  align=\"left\"></a>\n",
    "$ \\newcommand{\\bra}[1]{\\langle #1|} $\n",
    "$ \\newcommand{\\ket}[1]{|#1\\rangle} $\n",
    "$ \\newcommand{\\braket}[2]{\\langle #1|#2\\rangle} $\n",
    "$ \\newcommand{\\dot}[2]{ #1 \\cdot #2} $\n",
    "$ \\newcommand{\\biginner}[2]{\\left\\langle #1,#2\\right\\rangle} $\n",
    "$ \\newcommand{\\mymatrix}[2]{\\left( \\begin{array}{#1} #2\\end{array} \\right)} $\n",
    "$ \\newcommand{\\myvector}[1]{\\mymatrix{c}{#1}} $\n",
    "$ \\newcommand{\\myrvector}[1]{\\mymatrix{r}{#1}} $\n",
    "$ \\newcommand{\\mypar}[1]{\\left( #1 \\right)} $\n",
    "$ \\newcommand{\\mybigpar}[1]{ \\Big( #1 \\Big)} $\n",
    "$ \\newcommand{\\sqrttwo}{\\frac{1}{\\sqrt{2}}} $\n",
    "$ \\newcommand{\\dsqrttwo}{\\dfrac{1}{\\sqrt{2}}} $\n",
    "$ \\newcommand{\\onehalf}{\\frac{1}{2}} $\n",
    "$ \\newcommand{\\donehalf}{\\dfrac{1}{2}} $\n",
    "$ \\newcommand{\\hadamard}{ \\mymatrix{rr}{ \\sqrttwo & \\sqrttwo \\\\ \\sqrttwo & -\\sqrttwo }} $\n",
    "$ \\newcommand{\\vzero}{\\myvector{1\\\\0}} $\n",
    "$ \\newcommand{\\vone}{\\myvector{0\\\\1}} $\n",
    "$ \\newcommand{\\stateplus}{\\myvector{ \\sqrttwo \\\\  \\sqrttwo } } $\n",
    "$ \\newcommand{\\stateminus}{ \\myrvector{ \\sqrttwo \\\\ -\\sqrttwo } } $\n",
    "$ \\newcommand{\\myarray}[2]{ \\begin{array}{#1}#2\\end{array}} $\n",
    "$ \\newcommand{\\X}{ \\mymatrix{cc}{0 & 1 \\\\ 1 & 0}  } $\n",
    "$ \\newcommand{\\I}{ \\mymatrix{rr}{1 & 0 \\\\ 0 & 1}  } $\n",
    "$ \\newcommand{\\Z}{ \\mymatrix{rr}{1 & 0 \\\\ 0 & -1}  } $\n",
    "$ \\newcommand{\\Htwo}{ \\mymatrix{rrrr}{ \\frac{1}{2} & \\frac{1}{2} & \\frac{1}{2} & \\frac{1}{2} \\\\ \\frac{1}{2} & -\\frac{1}{2} & \\frac{1}{2} & -\\frac{1}{2} \\\\ \\frac{1}{2} & \\frac{1}{2} & -\\frac{1}{2} & -\\frac{1}{2} \\\\ \\frac{1}{2} & -\\frac{1}{2} & -\\frac{1}{2} & \\frac{1}{2} } } $\n",
    "$ \\newcommand{\\CNOT}{ \\mymatrix{cccc}{1 & 0 & 0 & 0 \\\\ 0 & 1 & 0 & 0 \\\\ 0 & 0 & 0 & 1 \\\\ 0 & 0 & 1 & 0} } $\n",
    "$ \\newcommand{\\norm}[1]{ \\left\\lVert #1 \\right\\rVert } $\n",
    "$ \\newcommand{\\pstate}[1]{ \\lceil \\mspace{-1mu} #1 \\mspace{-1.5mu} \\rfloor } $\n",
    "$ \\newcommand{\\greenbit}[1] {\\mathbf{{\\color{green}#1}}} $\n",
    "$ \\newcommand{\\bluebit}[1] {\\mathbf{{\\color{blue}#1}}} $\n",
    "$ \\newcommand{\\redbit}[1] {\\mathbf{{\\color{red}#1}}} $\n",
    "$ \\newcommand{\\brownbit}[1] {\\mathbf{{\\color{brown}#1}}} $\n",
    "$ \\newcommand{\\blackbit}[1] {\\mathbf{{\\color{black}#1}}} $"
   ]
  },
  {
   "cell_type": "markdown",
   "metadata": {},
   "source": [
    "<font style=\"font-size:28px;\" align=\"left\"><b> Multiple Control Constructions </b></font>\n",
    "<br>\n",
    "_prepared by Maksim Dimitrijev and Abuzer Yakaryilmaz_\n",
    "<br><br>\n",
    "[<img src=\"../qworld/images/watch_lecture.jpg\" align=\"left\">](https://youtu.be/eoFJdS5BwkA)\n",
    "<br><br><br>"
   ]
  },
  {
   "cell_type": "markdown",
   "metadata": {},
   "source": [
    "Remember that when appying CNOT gate, NOT operator is applied to the target qubit if the control qubit is in state $\\ket{1}$:\n",
    "\n",
    "$$ CNOT= \\mymatrix{cc|cc}{\\blackbit{1} & 0 & 0 & 0 \\\\ 0 & \\blackbit{1} & 0 & 0 \\\\ \\hline 0 & 0 & 0 & \\bluebit{1} \\\\  0 & 0 & \\bluebit{1} & 0} . $$\n",
    "\n",
    "How can we obtain the following operator, in which the NOT operator is applied to the target qubit if the control qubit is in state $ \\ket{0} $?\n",
    "\n",
    "$$ C_0NOT = \\mymatrix{cc|cc}{0 & \\bluebit{1} & 0 & 0 \\\\ \\bluebit{1} & 0 & 0 & 0 \\\\ \\hline 0 & 0 & \\blackbit{1} & 0 \\\\  0 & 0 & 0 & \\blackbit{1}} . $$\n",
    "\n",
    "As also mentioned in the notebook [Operators on Multiple Bits](../classical-systems/CS40_Operators_on_Multiple_Bits.ipynb), we can apply a $ NOT $ operator on the control bit before applying $ CNOT $ operator so that the $ NOT $ operator is applied to the target qubit when the control qubit has been in state $ \\ket{0} $. To recover the previous value of the control qubit, we apply the $ NOT $ operator once more after the $ CNOT $ operator. In short:\n",
    "<ul>\n",
    "    <li>apply $ NOT $ operator to the control qubit,</li>\n",
    "    <li>apply $ CNOT $ operator, and,</li>\n",
    "    <li>apply $ NOT $ operator to the control qubit.</li>\n",
    "</ul>\n",
    "\n",
    "We can implement this idea in Qiskit as follows."
   ]
  },
  {
   "cell_type": "code",
   "execution_count": 1,
   "metadata": {},
   "outputs": [
    {
     "name": "stdout",
     "output_type": "stream",
     "text": [
      "CNOT(0) = \n",
      "0.0  1.0  0.0  0.0  \n",
      "1.0  0.0  0.0  0.0  \n",
      "0.0  0.0  1.0  0.0  \n",
      "0.0  0.0  0.0  1.0  \n"
     ]
    },
    {
     "data": {
      "image/png": "[encoded data removed]",
      "text/plain": [
       "<Figure size 370.906x367.889 with 1 Axes>"
      ]
     },
     "execution_count": 1,
     "metadata": {},
     "output_type": "execute_result"
    }
   ],
   "source": [
    "from qiskit import QuantumRegister, ClassicalRegister, QuantumCircuit, execute, Aer\n",
    "\n",
    "q = QuantumRegister(2, \"q\")\n",
    "c = ClassicalRegister(2, \"c\")\n",
    "\n",
    "qc = QuantumCircuit(q,c)\n",
    "\n",
    "qc.x(q[1])\n",
    "\n",
    "qc.cx(q[1],q[0])\n",
    "\n",
    "# Returning control qubit to the initial state\n",
    "qc.x(q[1])\n",
    "\n",
    "job = execute(qc,Aer.get_backend('unitary_simulator'), shots = 1)\n",
    "U=job.result().get_unitary(qc,decimals=3).data\n",
    "\n",
    "print(\"CNOT(0) = \")\n",
    "for row in U:\n",
    "    s = \"\"\n",
    "    for value in row:\n",
    "        s = s + str(round(value.real,2)) + \"  \"\n",
    "    print(s)\n",
    "\n",
    "qc.draw(output=\"mpl\", reverse_bits=True)"
   ]
  },
  {
   "cell_type": "markdown",
   "metadata": {},
   "source": [
    "By using this trick, more complex conditional operators can be implemented."
   ]
  },
  {
   "cell_type": "markdown",
   "metadata": {},
   "source": [
    "<h3>CCNOT</h3>\n",
    "\n",
    "Now we introduce $ CCNOT $ gate: **controlled-controlled-not operator** ([Toffoli gate](https://en.wikipedia.org/wiki/Toffoli_gate)), which is controlled by two qubits. The implementation of $CCNOT$ gate in Qiskit is as follows:\n",
    "\n",
    "    circuit.ccx(control-qubit1,control-qubit2,target-qubit)\n",
    "\n",
    "That is, $ NOT $ operator is applied to the target qubit when both control qubits are in state $\\ket{1}$. Its matrix representation is as follows:\n",
    "\n",
    "$$ CCNOT = \\mymatrix{cc|cc|cc|cc}{\\blackbit{1} & 0 & 0 & 0 & 0 & 0 & 0 & 0 \\\\ 0 & \\blackbit{1} & 0 & 0 & 0 & 0 & 0 & 0 \\\\ \\hline 0 & 0 & \\blackbit{1} & 0 & 0 & 0 & 0 & 0 \\\\ 0 & 0 & 0 & \\blackbit{1} & 0 & 0 & 0 & 0 \\\\ \\hline 0 & 0 & 0 & 0 & \\blackbit{1} & 0 & 0 & 0 \\\\ 0 & 0 & 0 & 0 & 0 & \\blackbit{1} & 0 & 0 \\\\ \\hline 0 & 0 & 0 & 0 & 0 & 0 & 0 & \\bluebit{1} \\\\ 0 & 0 & 0 & 0 & 0 & 0 & \\bluebit{1} & 0}. $$"
   ]
  },
  {
   "cell_type": "markdown",
   "metadata": {},
   "source": [
    "<h3>Task 1</h3>\n",
    "\n",
    "Implement each of the following operators in Qiskit by using three qubits. Verify your implementation by using \"unitary_simulator\" backend. <br><br>\n",
    "\n",
    "<font size=\"-2\">\n",
    "$$\n",
    "    C_0C_0NOT = \\mymatrix{cc|cc|cc|cc}{0 & \\bluebit{1} & 0 & 0 & 0 & 0 & 0 & 0 \\\\ \\bluebit{1} & 0 & 0 & 0 & 0 & 0 & 0 & 0 \\\\ \\hline 0 & 0 & \\blackbit{1} & 0 & 0 & 0 & 0 & 0 \\\\ 0 & 0 & 0 & \\blackbit{1} & 0 & 0 & 0 & 0 \\\\ \\hline 0 & 0 & 0 & 0 & \\blackbit{1} & 0 & 0 & 0 \\\\ 0 & 0 & 0 & 0 & 0 & \\blackbit{1} & 0 & 0 \\\\ \\hline 0 & 0 & 0 & 0 & 0 & 0 & \\blackbit{1} & 0 \\\\ 0 & 0 & 0 & 0 & 0 & 0 & 0 & \\blackbit{1}}, ~~\n",
    "    C_0C_1NOT = \\mymatrix{cc|cc|cc|cc}{ \\blackbit{1} & 0 & 0 & 0 & 0 & 0 & 0 & 0 \\\\ 0 & \\blackbit{1} & 0 & 0 & 0 & 0 & 0 & 0 \\\\ \\hline 0 & 0 & 0 & \\bluebit{1}  & 0 & 0 & 0 & 0 \\\\ 0 & 0 & \\bluebit{1}  & 0 & 0 & 0 & 0 & 0 \\\\ \\hline 0 & 0 & 0 & 0 & \\blackbit{1} & 0 & 0 & 0 \\\\ 0 & 0 & 0 & 0 & 0 & \\blackbit{1} & 0 & 0 \\\\ \\hline 0 & 0 & 0 & 0 & 0 & 0 & \\blackbit{1} & 0 \\\\ 0 & 0 & 0 & 0 & 0 & 0 & 0 & \\blackbit{1}}, ~~ \\mbox{and} ~~\n",
    "    C_1C_0NOT = \\mymatrix{cc|cc|cc|cc}{\\blackbit{1} & 0 & 0 & 0 & 0 & 0 & 0 & 0 \\\\ 0 & \\blackbit{1} & 0 & 0 & 0 & 0 & 0 & 0 \\\\ \\hline 0 & 0 & \\blackbit{1} & 0 & 0 & 0 & 0 & 0 \\\\ 0 & 0 & 0 & \\blackbit{1} & 0 & 0 & 0 & 0 \\\\ \\hline 0 & 0 & 0 & 0 & 0 & \\bluebit{1} & 0 & 0 \\\\ 0 & 0 & 0 & 0 & \\bluebit{1} & 0 & 0 & 0 \\\\ \\hline 0 & 0 & 0 & 0 & 0 & 0 & \\blackbit{1} & 0 \\\\ 0 & 0 & 0 & 0 & 0 & 0 & 0 & \\blackbit{1}}.   \n",
    "$$\n",
    "    </font>"
   ]
  },
  {
   "cell_type": "markdown",
   "metadata": {},
   "source": [
    "# $C_0C_0NOT$"
   ]
  },
  {
   "cell_type": "code",
   "execution_count": 7,
   "metadata": {},
   "outputs": [
    {
     "data": {
      "image/png": "[encoded data removed]",
      "text/plain": [
       "<Figure size 407.771x367.889 with 1 Axes>"
      ]
     },
     "metadata": {},
     "output_type": "display_data"
    },
    {
     "name": "stdout",
     "output_type": "stream",
     "text": [
      "0.0 1.0 0.0 0.0 0.0 0.0 0.0 0.0 \n",
      "1.0 0.0 0.0 0.0 0.0 0.0 0.0 0.0 \n",
      "0.0 0.0 1.0 0.0 0.0 0.0 0.0 0.0 \n",
      "0.0 0.0 0.0 1.0 0.0 0.0 0.0 0.0 \n",
      "0.0 0.0 0.0 0.0 1.0 0.0 0.0 0.0 \n",
      "0.0 0.0 0.0 0.0 0.0 1.0 0.0 0.0 \n",
      "0.0 0.0 0.0 0.0 0.0 0.0 1.0 0.0 \n",
      "0.0 0.0 0.0 0.0 0.0 0.0 0.0 1.0 \n"
     ]
    }
   ],
   "source": [
    "#\n",
    "# your solution is here\n",
    "#\n",
    "from qiskit import QuantumRegister, ClassicalRegister, QuantumCircuit, Aer, execute\n",
    "\n",
    "q = QuantumRegister(3)\n",
    "c = ClassicalRegister(3)\n",
    "\n",
    "qc = QuantumCircuit(q,c)\n",
    "\n",
    "qc.x(q[2])\n",
    "qc.x(q[1])\n",
    "\n",
    "qc.ccx(q[2], q[1], q[0])\n",
    "qc.x(q[2])\n",
    "qc.x(q[1])\n",
    "display(qc.draw(\"mpl\"))\n",
    "\n",
    "job = execute(qc, Aer.get_backend(\"unitary_simulator\"), optimization_level=0)\n",
    "unitary_op = job.result().get_unitary(qc, decimals=3).data\n",
    "\n",
    "for row in unitary_op:\n",
    "    s = ''\n",
    "    for col in row:\n",
    "        s = s + str(round(col.real,2)) + \" \"\n",
    "    print(s)"
   ]
  },
  {
   "cell_type": "markdown",
   "metadata": {},
   "source": [
    "# $C_0C_1NOT$"
   ]
  },
  {
   "cell_type": "code",
   "execution_count": 8,
   "metadata": {},
   "outputs": [
    {
     "data": {
      "image/png": "[encoded data removed]",
      "text/plain": [
       "<Figure size 407.569x367.889 with 1 Axes>"
      ]
     },
     "metadata": {},
     "output_type": "display_data"
    },
    {
     "name": "stdout",
     "output_type": "stream",
     "text": [
      "1.0 0.0 0.0 0.0 0.0 0.0 0.0 0.0 \n",
      "0.0 1.0 0.0 0.0 0.0 0.0 0.0 0.0 \n",
      "0.0 0.0 0.0 1.0 0.0 0.0 0.0 0.0 \n",
      "0.0 0.0 1.0 0.0 0.0 0.0 0.0 0.0 \n",
      "0.0 0.0 0.0 0.0 1.0 0.0 0.0 0.0 \n",
      "0.0 0.0 0.0 0.0 0.0 1.0 0.0 0.0 \n",
      "0.0 0.0 0.0 0.0 0.0 0.0 1.0 0.0 \n",
      "0.0 0.0 0.0 0.0 0.0 0.0 0.0 1.0 \n"
     ]
    }
   ],
   "source": [
    "from qiskit import QuantumRegister, ClassicalRegister, QuantumCircuit, Aer, execute\n",
    "\n",
    "q = QuantumRegister(3)\n",
    "c = ClassicalRegister(3)\n",
    "\n",
    "qc = QuantumCircuit(q,c)\n",
    "\n",
    "qc.x(q[2])\n",
    "\n",
    "qc.ccx(q[2], q[1], q[0])\n",
    "qc.x(q[2])\n",
    "display(qc.draw(\"mpl\"))\n",
    "\n",
    "job = execute(qc, Aer.get_backend(\"unitary_simulator\"), optimization_level=0)\n",
    "unitary_op = job.result().get_unitary(qc, decimals=3).data\n",
    "\n",
    "for row in unitary_op:\n",
    "    s = ''\n",
    "    for col in row:\n",
    "        s = s + str(round(col.real,2)) + \" \"\n",
    "    print(s)"
   ]
  },
  {
   "cell_type": "markdown",
   "metadata": {},
   "source": [
    "# $C_1C_0NOT$"
   ]
  },
  {
   "cell_type": "code",
   "execution_count": 9,
   "metadata": {},
   "outputs": [
    {
     "data": {
      "image/png": "[encoded data removed]",
      "text/plain": [
       "<Figure size 407.771x367.889 with 1 Axes>"
      ]
     },
     "metadata": {},
     "output_type": "display_data"
    },
    {
     "name": "stdout",
     "output_type": "stream",
     "text": [
      "1.0 0.0 0.0 0.0 0.0 0.0 0.0 0.0 \n",
      "0.0 1.0 0.0 0.0 0.0 0.0 0.0 0.0 \n",
      "0.0 0.0 1.0 0.0 0.0 0.0 0.0 0.0 \n",
      "0.0 0.0 0.0 1.0 0.0 0.0 0.0 0.0 \n",
      "0.0 0.0 0.0 0.0 0.0 1.0 0.0 0.0 \n",
      "0.0 0.0 0.0 0.0 1.0 0.0 0.0 0.0 \n",
      "0.0 0.0 0.0 0.0 0.0 0.0 1.0 0.0 \n",
      "0.0 0.0 0.0 0.0 0.0 0.0 0.0 1.0 \n"
     ]
    }
   ],
   "source": [
    "from qiskit import QuantumRegister, ClassicalRegister, QuantumCircuit, Aer, execute\n",
    "\n",
    "q = QuantumRegister(3)\n",
    "c = ClassicalRegister(3)\n",
    "\n",
    "qc = QuantumCircuit(q,c)\n",
    "\n",
    "\n",
    "qc.x(q[1])\n",
    "\n",
    "qc.ccx(q[2], q[1], q[0])\n",
    "\n",
    "qc.x(q[1])\n",
    "display(qc.draw(\"mpl\"))\n",
    "\n",
    "job = execute(qc, Aer.get_backend(\"unitary_simulator\"), optimization_level=0)\n",
    "unitary_op = job.result().get_unitary(qc, decimals=3).data\n",
    "\n",
    "for row in unitary_op:\n",
    "    s = ''\n",
    "    for col in row:\n",
    "        s = s + str(round(col.real,2)) + \" \"\n",
    "    print(s)"
   ]
  },
  {
   "cell_type": "markdown",
   "metadata": {},
   "source": [
    "<a href=\"Q80_Multiple_Control_Constructions_Solutions.ipynb#task1\">click for our solution</a>"
   ]
  },
  {
   "cell_type": "markdown",
   "metadata": {},
   "source": [
    "<h3>More controls</h3>\n",
    "\n",
    "Here we present basic methods on how to implement $ NOT $ gates controlled by more than two qubits by using $CNOT$, $ CCNOT $, and some ancilla (auxiliary) qubits. \n",
    "\n",
    "*(Note that Qiskit has a method called \"mct\" to implement such gates. Another multiple-controlled operator in Qiskit is \"mcrz\".)*"
   ]
  },
  {
   "cell_type": "markdown",
   "metadata": {},
   "source": [
    "#### Implementation of CCCNOT gate\n",
    "\n",
    "We give the implementation of $ CCCNOT $ gate: $NOT$ operator is applied to target qubit when the control qubits are in state $ \\ket{111} $. This gate requires 4 qubits. We also use an auxiliary qubit. \n",
    "\n",
    "Our qubits are $ q_{aux}, q_3, q_2, q_1, q_0 $, and the auxiliary qubit $q_{aux}$ should be in state $\\ket{0}$ after each use. The implementation of the $ CCCNOT $ gate in Qiskit is given below. The short explanations are given as comments."
   ]
  },
  {
   "cell_type": "code",
   "execution_count": 10,
   "metadata": {},
   "outputs": [
    {
     "data": {
      "image/png": "[encoded data removed]",
      "text/plain": [
       "<Figure size 405.761x785.944 with 1 Axes>"
      ]
     },
     "execution_count": 10,
     "metadata": {},
     "output_type": "execute_result"
    }
   ],
   "source": [
    "from qiskit import QuantumRegister, ClassicalRegister, QuantumCircuit, execute, Aer\n",
    "\n",
    "qaux = QuantumRegister(1,\"qaux\")\n",
    "q = QuantumRegister(4,\"q\")\n",
    "c = ClassicalRegister(4,\"c\")\n",
    "\n",
    "qc = QuantumCircuit(q,qaux,c)\n",
    "\n",
    "# step 1: set qaux to |1> if both q3 and q2 are in |1>\n",
    "qc.ccx(q[3],q[2],qaux[0])\n",
    "\n",
    "# step 2: apply NOT gate to q0 if both qaux and q1 are in |1>\n",
    "qc.ccx(qaux[0],q[1],q[0])\n",
    "\n",
    "# step 3: set qaux to |0> if both q3 and q2 are in |1> by reversing the affect of step 1\n",
    "qc.ccx(q[3],q[2],qaux[0])\n",
    "\n",
    "qc.draw(output=\"mpl\",reverse_bits=True)"
   ]
  },
  {
   "cell_type": "markdown",
   "metadata": {},
   "source": [
    "Now, we execute this circuit on every possible inputs and verify the correctness of the implementation experimentally."
   ]
  },
  {
   "cell_type": "code",
   "execution_count": 12,
   "metadata": {},
   "outputs": [
    {
     "data": {
      "image/png": "[encoded data removed]",
      "text/plain": [
       "<Figure size 591.214x1036.78 with 1 Axes>"
      ]
     },
     "execution_count": 12,
     "metadata": {},
     "output_type": "execute_result"
    }
   ],
   "source": [
    "from qiskit import QuantumRegister, ClassicalRegister, QuantumCircuit, execute, Aer\n",
    "\n",
    "qaux = QuantumRegister(2,\"qaux\")\n",
    "q = QuantumRegister(5,\"q\")\n",
    "c = ClassicalRegister(5,\"c\")\n",
    "qc = QuantumCircuit(q,qaux,c)\n",
    "\n",
    "qc.ccx(q[4],q[3],qaux[1])\n",
    "qc.ccx(q[2],q[1],qaux[0])\n",
    "qc.ccx(qaux[1],qaux[0],q[0])\n",
    "qc.ccx(q[4],q[3],qaux[1])\n",
    "qc.ccx(q[2],q[1],qaux[0])\n",
    "\n",
    "qc.draw(output=\"mpl\",reverse_bits=True)"
   ]
  },
  {
   "cell_type": "code",
   "execution_count": 13,
   "metadata": {},
   "outputs": [
    {
     "name": "stdout",
     "output_type": "stream",
     "text": [
      "input --> output\n",
      "0000 0 --> 0000 0\n",
      "0000 1 --> 0000 1\n",
      "0001 0 --> 0001 0\n",
      "0001 1 --> 0001 1\n",
      "0010 0 --> 0010 0\n",
      "0010 1 --> 0010 1\n",
      "0011 0 --> 0011 0\n",
      "0011 1 --> 0011 1\n",
      "0100 0 --> 0100 0\n",
      "0100 1 --> 0100 1\n",
      "0101 0 --> 0101 0\n",
      "0101 1 --> 0101 1\n",
      "0110 0 --> 0110 0\n",
      "0110 1 --> 0110 1\n",
      "0111 0 --> 0111 0\n",
      "0111 1 --> 0111 1\n",
      "1000 0 --> 1000 0\n",
      "1000 1 --> 1000 1\n",
      "1001 0 --> 1001 0\n",
      "1001 1 --> 1001 1\n",
      "1010 0 --> 1010 0\n",
      "1010 1 --> 1010 1\n",
      "1011 0 --> 1011 0\n",
      "1011 1 --> 1011 1\n",
      "1100 0 --> 1100 0\n",
      "1100 1 --> 1100 1\n",
      "1101 0 --> 1101 0\n",
      "1101 1 --> 1101 1\n",
      "1110 0 --> 1110 0\n",
      "1110 1 --> 1110 1\n",
      "1111 0 --> 1111 1 the output is different than the input\n",
      "1111 1 --> 1111 0 the output is different than the input\n"
     ]
    }
   ],
   "source": [
    "from qiskit import QuantumRegister, ClassicalRegister, QuantumCircuit, execute, Aer\n",
    "\n",
    "all_inputs=[]\n",
    "for q4 in ['0','1']: \n",
    "    for q3 in ['0','1']:\n",
    "        for q2 in ['0','1']:\n",
    "            for q1 in ['0','1']:\n",
    "                for q0 in ['0','1']:\n",
    "                    all_inputs.append(q4+q3+q2+q1+q0)\n",
    "#print(all_inputs)  \n",
    "\n",
    "print(\"input --> output\")\n",
    "for the_input in all_inputs:\n",
    "    # create the circuit\n",
    "    qaux = QuantumRegister(2,\"qaux\")\n",
    "    q = QuantumRegister(5,\"q\")\n",
    "    c = ClassicalRegister(5,\"c\")\n",
    "    qc = QuantumCircuit(q,qaux,c)\n",
    "    # set the initial value of the circuit w.r.t. the input\n",
    "    if the_input[0] =='1': qc.x(q[4])\n",
    "    if the_input[1] =='1': qc.x(q[3])\n",
    "    if the_input[2] =='1': qc.x(q[2])\n",
    "    if the_input[3] =='1': qc.x(q[1])\n",
    "    if the_input[4] =='1': qc.x(q[0])\n",
    "    # implement the CCNOT gates\n",
    "    qc.ccx(q[4],q[3],qaux[1])\n",
    "    qc.ccx(q[2],q[1],qaux[0])\n",
    "    qc.ccx(qaux[1],qaux[0],q[0])\n",
    "    qc.ccx(q[4],q[3],qaux[1])\n",
    "    qc.ccx(q[2],q[1],qaux[0])\n",
    "    # measure the main quantum register \n",
    "    qc.measure(q,c)\n",
    "    # execute the circuit\n",
    "    job = execute(qc,Aer.get_backend('qasm_simulator'),shots=1)\n",
    "    counts = job.result().get_counts(qc)\n",
    "    for key in counts: the_output = key\n",
    "    printed_str = the_input[0:4]+\" \"+the_input[4]+\" --> \"+the_output[0:4]+\" \"+the_output[4]\n",
    "    if (the_input!=the_output): printed_str = printed_str + \" the output is different than the input\"\n",
    "    print(printed_str)"
   ]
  },
  {
   "cell_type": "markdown",
   "metadata": {},
   "source": [
    "<h3>Task 2</h3>\n",
    "\n",
    "Provide an implementation of the NOT operator controlled by 4 qubits ($CCCCNOT$) in Qiskit. Verify its correctness by executing your solution on all possible inputs. (See the above example)\n",
    "\n",
    "*You may use two auxiliary qubits.*"
   ]
  },
  {
   "cell_type": "code",
   "execution_count": 16,
   "metadata": {},
   "outputs": [
    {
     "name": "stdout",
     "output_type": "stream",
     "text": [
      "input --> output\n",
      "0000 0 --> 0000 0\n",
      "0000 1 --> 0000 1\n",
      "0001 0 --> 0001 0\n",
      "0001 1 --> 0001 1\n",
      "0010 0 --> 0010 0\n",
      "0010 1 --> 0010 1\n",
      "0011 0 --> 0011 0\n",
      "0011 1 --> 0011 1\n",
      "0100 0 --> 0100 0\n",
      "0100 1 --> 0100 1\n",
      "0101 0 --> 0101 0\n",
      "0101 1 --> 0101 1\n",
      "0110 0 --> 0110 0\n",
      "0110 1 --> 0110 1\n",
      "0111 0 --> 0111 0\n",
      "0111 1 --> 0111 1\n",
      "1000 0 --> 1000 0\n",
      "1000 1 --> 1000 1\n",
      "1001 0 --> 1001 0\n",
      "1001 1 --> 1001 1\n",
      "1010 0 --> 1010 0\n",
      "1010 1 --> 1010 1\n",
      "1011 0 --> 1011 0\n",
      "1011 1 --> 1011 1\n",
      "1100 0 --> 1100 0\n",
      "1100 1 --> 1100 1\n",
      "1101 0 --> 1101 0\n",
      "1101 1 --> 1101 1\n",
      "1110 0 --> 1110 0\n",
      "1110 1 --> 1110 1\n",
      "1111 0 --> 1111 1 the output is different than the input\n",
      "1111 1 --> 1111 0 the output is different than the input\n"
     ]
    }
   ],
   "source": [
    "#\n",
    "# your solution is here\n",
    "#\n",
    "from qiskit import QuantumRegister, ClassicalRegister, QuantumCircuit, execute, Aer\n",
    "\n",
    "all_inputs=[]\n",
    "for q4 in ['0','1']:\n",
    "    for q3 in ['0','1']:\n",
    "        for q2 in ['0','1']:\n",
    "            for q1 in ['0','1']:\n",
    "                for q0 in ['0', '1']:\n",
    "                    all_inputs.append(q4+q3+q2+q1+q0)\n",
    "# print(all_inputs)                                  \n",
    "\n",
    "print(\"input --> output\")\n",
    "for the_input in all_inputs:\n",
    "    # create the circuit\n",
    "    qaux = QuantumRegister(2,\"qaux\")\n",
    "    q = QuantumRegister(5,\"q\")\n",
    "    c = ClassicalRegister(5,\"c\")\n",
    "    qc = QuantumCircuit(q,qaux,c)\n",
    "    # set the initial value of the circuit w.r.t. the input\n",
    "    if the_input[0] =='1': qc.x(q[4])\n",
    "    if the_input[1] =='1': qc.x(q[3])\n",
    "    if the_input[2] =='1': qc.x(q[2])\n",
    "    if the_input[3] =='1': qc.x(q[1])\n",
    "    if the_input[4] =='1': qc.x(q[0])\n",
    "    # implement the CCNOT gates\n",
    "    qc.ccx(q[4],q[3],qaux[1])\n",
    "    qc.ccx(q[2], q[1], qaux[0])\n",
    "    qc.ccx(qaux[1],qaux[0],q[0])\n",
    "    qc.ccx(q[4],q[3],qaux[1])\n",
    "    qc.ccx(q[2], q[1], qaux[0])\n",
    "    # measure the main quantum register \n",
    "    qc.measure(q,c)\n",
    "    # execute the circuit\n",
    "    job = execute(qc,Aer.get_backend('qasm_simulator'),shots=1)\n",
    "    counts = job.result().get_counts(qc)\n",
    "    for key in counts: the_output = key\n",
    "    printed_str = the_input[0:4]+\" \"+the_input[4]+\" --> \"+the_output[0:4]+\" \"+the_output[4]\n",
    "    if (the_input!=the_output): printed_str = printed_str + \" the output is different than the input\"\n",
    "    print(printed_str)\n"
   ]
  },
  {
   "cell_type": "markdown",
   "metadata": {},
   "source": [
    "<a href=\"Q80_Multiple_Control_Constructions_Solutions.ipynb#task2\">click for our solution</a>"
   ]
  },
  {
   "cell_type": "markdown",
   "metadata": {},
   "source": [
    "<h3>Task 3</h3>\n",
    "\n",
    "Repeat Task 2 for the operator $C_1C_0C_1C_0NOT$: $NOT$ operator is applied to the target qubit if the four control qubits are in state $ \\ket{1010} $."
   ]
  },
  {
   "cell_type": "code",
   "execution_count": 23,
   "metadata": {},
   "outputs": [
    {
     "data": {
      "image/png": "[encoded data removed]",
      "text/plain": [
       "<Figure size 821.137x702.333 with 1 Axes>"
      ]
     },
     "metadata": {},
     "output_type": "display_data"
    }
   ],
   "source": [
    "#\n",
    "# your solution is here\n",
    "#\n",
    "from qiskit import QuantumRegister, ClassicalRegister, QuantumCircuit,Aer, execute\n",
    "\n",
    "qaux = QuantumRegister(2, \"qaux_reg\")\n",
    "q = QuantumRegister(5, \"qreg\")\n",
    "c = ClassicalRegister(5, \"creg\")\n",
    "\n",
    "qc = QuantumCircuit(q,qaux,c)\n",
    "\n",
    "qc.x(q[1])\n",
    "qc.x(q[3])\n",
    "\n",
    "qc.ccx(q[4], q[3], qaux[1])\n",
    "qc.ccx(q[2], q[1], qaux[0])\n",
    "qc.ccx(qaux[1], qaux[0], q[0])\n",
    "qc.ccx(q[4], q[3], qaux[1])\n",
    "qc.ccx(q[2], q[1], qaux[0])\n",
    "\n",
    "qc.x(q[1])\n",
    "qc.x(q[3])\n",
    "\n",
    "display(qc.draw(\"mpl\"))\n",
    "\n"
   ]
  },
  {
   "cell_type": "code",
   "execution_count": 25,
   "metadata": {},
   "outputs": [
    {
     "name": "stdout",
     "output_type": "stream",
     "text": [
      "input --> output\n",
      "0000 0 --> 0000 0\n",
      "0000 1 --> 0000 1\n",
      "0001 0 --> 0001 0\n",
      "0001 1 --> 0001 1\n",
      "0010 0 --> 0010 0\n",
      "0010 1 --> 0010 1\n",
      "0011 0 --> 0011 0\n",
      "0011 1 --> 0011 1\n",
      "0100 0 --> 0100 0\n",
      "0100 1 --> 0100 1\n",
      "0101 0 --> 0101 0\n",
      "0101 1 --> 0101 1\n",
      "0110 0 --> 0110 0\n",
      "0110 1 --> 0110 1\n",
      "0111 0 --> 0111 0\n",
      "0111 1 --> 0111 1\n",
      "1000 0 --> 1000 0\n",
      "1000 1 --> 1000 1\n",
      "1001 0 --> 1001 0\n",
      "1001 1 --> 1001 1\n",
      "1010 0 --> 1010 1 the output is different than the input\n",
      "1010 1 --> 1010 0 the output is different than the input\n",
      "1011 0 --> 1011 0\n",
      "1011 1 --> 1011 1\n",
      "1100 0 --> 1100 0\n",
      "1100 1 --> 1100 1\n",
      "1101 0 --> 1101 0\n",
      "1101 1 --> 1101 1\n",
      "1110 0 --> 1110 0\n",
      "1110 1 --> 1110 1\n",
      "1111 0 --> 1111 0\n",
      "1111 1 --> 1111 1\n"
     ]
    }
   ],
   "source": [
    "from qiskit import QuantumRegister, ClassicalRegister, QuantumCircuit, execute, Aer\n",
    "\n",
    "all_inputs=[]\n",
    "for q4 in ['0','1']: \n",
    "    for q3 in ['0','1']:\n",
    "        for q2 in ['0','1']:\n",
    "            for q1 in ['0','1']:\n",
    "                for q0 in ['0','1']:\n",
    "                    all_inputs.append(q4+q3+q2+q1+q0)\n",
    "#print(all_inputs)  \n",
    "\n",
    "print(\"input --> output\")\n",
    "for the_input in all_inputs:\n",
    "    # create the circuit\n",
    "    qaux = QuantumRegister(2,\"qaux\")\n",
    "    q = QuantumRegister(5,\"q\")\n",
    "    c = ClassicalRegister(5,\"c\")\n",
    "    qc = QuantumCircuit(q,qaux,c)\n",
    "    # set the initial value of the circuit w.r.t. the input\n",
    "    if the_input[0] =='1': qc.x(q[4])\n",
    "    if the_input[1] =='1': qc.x(q[3])\n",
    "    if the_input[2] =='1': qc.x(q[2])\n",
    "    if the_input[3] =='1': qc.x(q[1])\n",
    "    if the_input[4] =='1': qc.x(q[0])\n",
    "\n",
    "    # set q[1] and q[3] to |1>\n",
    "    qc.x(q[1])\n",
    "    qc.x(q[3])\n",
    "    \n",
    "    # implement the CCNOT gates\n",
    "    qc.ccx(q[4],q[3],qaux[1])\n",
    "    qc.ccx(q[2],q[1],qaux[0])\n",
    "    qc.ccx(qaux[1],qaux[0],q[0])\n",
    "    qc.ccx(q[4],q[3],qaux[1])\n",
    "    qc.ccx(q[2],q[1],qaux[0])\n",
    "    # measure the main quantum register \n",
    "    #set back q[1] and q[3] to |0>\n",
    "    qc.x(q[1])\n",
    "    qc.x(q[3])\n",
    "    \n",
    "    qc.measure(q,c)\n",
    "    # execute the circuit\n",
    "    job = execute(qc,Aer.get_backend('qasm_simulator'),shots=1)\n",
    "    counts = job.result().get_counts(qc)\n",
    "    for key in counts: the_output = key\n",
    "    printed_str = the_input[0:4]+\" \"+the_input[4]+\" --> \"+the_output[0:4]+\" \"+the_output[4]\n",
    "    if (the_input!=the_output): printed_str = printed_str + \" the output is different than the input\"\n",
    "    print(printed_str)"
   ]
  },
  {
   "cell_type": "markdown",
   "metadata": {},
   "source": [
    "<a href=\"Q80_Multiple_Control_Constructions_Solutions.ipynb#task3\">click for our solution</a>"
   ]
  },
  {
   "cell_type": "markdown",
   "metadata": {},
   "source": [
    "<h3>Task 4 (extra)</h3>\n",
    "\n",
    "Write a function taking a binary string \"$ b_1 b_2 b_3 b_4$ that repeats Task 2 for the operator $ C_{b_1}C_{b_2}C_{b_3}C_{b_4}NOT $ gate, where $ b_1,\\ldots,b_4$ are bits and $ NOT $ operator is applied to target qubit if the control qubits are in state $ \\ket{b_1b_2b_3b_4} $."
   ]
  },
  {
   "cell_type": "code",
   "execution_count": 32,
   "metadata": {},
   "outputs": [],
   "source": [
    "from qiskit import QuantumRegister, ClassicalRegister, QuantumCircuit, execute, Aer\n",
    "\n",
    "all_inputs = []\n",
    "\n",
    "for q4 in ['0', '1']:\n",
    "    for q3 in ['0', '1']:\n",
    "        for q2 in ['0', '1']:\n",
    "            for q1 in ['0', '1']:\n",
    "                for q0 in ['0', '1']:\n",
    "                    all_inputs.append(q4+q3+q2+q1+q0)\n",
    "\n",
    "\n",
    "\n",
    "def c4not(control_state='1111'):\n",
    "    #\n",
    "    # your code is here\n",
    "    #\n",
    "    qaux = QuantumRegister(2)\n",
    "    q = QuantumRegister(5)\n",
    "    c = ClassicalRegister(5)\n",
    "    qc = QuantumCircuit(q,qaux,c)\n",
    "    for b in range(4):\n",
    "        if control_state[b] == '0':\n",
    "            qc.x(q[4-b])\n",
    "    qc.ccx(q[4], q[3], qaux[1])\n",
    "    qc.ccx(q[2], q[1], qaux[0])\n",
    "    qc.ccx(qaux[1], qaux[0], q[0])\n",
    "    qc.ccx(q[4], q[3], qaux[1])\n",
    "    qc.ccx(q[2],q[1], qaux[0])\n",
    "\n",
    "    for b in range(4):\n",
    "        if control_state[b] == '0':\n",
    "            qc.x(q[4-b])\n",
    "    display(qc.draw(\"mpl\"))\n",
    "\n",
    "    #execute the circuit fot all possible inputs\n",
    "    for the_input in all_inputs:\n",
    "        qaux = QuantumRegister(2)\n",
    "        q = QuantumRegister(5)\n",
    "        c = ClassicalRegister(5)\n",
    "        qc = QuantumCircuit(q,qaux,c)\n",
    "\n",
    "        # set the initial value of the circuit w.r.t. the input\n",
    "        if the_input[0] =='1': qc.x(q[4])\n",
    "        if the_input[1] =='1': qc.x(q[3])\n",
    "        if the_input[2] =='1': qc.x(q[2])\n",
    "        if the_input[3] =='1': qc.x(q[1])\n",
    "        if the_input[4] =='1': qc.x(q[0])\n",
    "        # implement the CCNOT gates\n",
    "        for b in range(4):\n",
    "            if control_state[b] == '0':\n",
    "                qc.x(q[4-b])\n",
    "        qc.ccx(q[4],q[3],qaux[1])\n",
    "        qc.ccx(q[2],q[1],qaux[0])\n",
    "        qc.ccx(qaux[1],qaux[0],q[0])\n",
    "        qc.ccx(q[4],q[3],qaux[1])\n",
    "        qc.ccx(q[2],q[1],qaux[0])\n",
    "        for b in range(4):\n",
    "            if control_state[b] == '0':\n",
    "                qc.x(q[4-b])\n",
    "        qc.measure(q,c)\n",
    "\n",
    "        job = execute(qc,Aer.get_backend('qasm_simulator'),shots=1)\n",
    "        counts = job.result().get_counts(qc)\n",
    "        for key in counts: the_output = key\n",
    "        printed_str = the_input[0:4]+\" \"+the_input[4]+\" --> \"+the_output[0:4]+\" \"+the_output[4]\n",
    "        if (the_input!=the_output): printed_str = printed_str + \" the output is different than the input\"\n",
    "        print(printed_str)\n",
    "        \n",
    "        \n",
    "        \n",
    "        \n",
    "    "
   ]
  },
  {
   "cell_type": "code",
   "execution_count": 33,
   "metadata": {},
   "outputs": [
    {
     "data": {
      "image/png": "[encoded data removed]",
      "text/plain": [
       "<Figure size 760.446x702.333 with 1 Axes>"
      ]
     },
     "metadata": {},
     "output_type": "display_data"
    },
    {
     "name": "stdout",
     "output_type": "stream",
     "text": [
      "0000 0 --> 0000 0\n",
      "0000 1 --> 0000 1\n",
      "0001 0 --> 0001 0\n",
      "0001 1 --> 0001 1\n",
      "0010 0 --> 0010 0\n",
      "0010 1 --> 0010 1\n",
      "0011 0 --> 0011 1 the output is different than the input\n",
      "0011 1 --> 0011 0 the output is different than the input\n",
      "0100 0 --> 0100 0\n",
      "0100 1 --> 0100 1\n",
      "0101 0 --> 0101 0\n",
      "0101 1 --> 0101 1\n",
      "0110 0 --> 0110 0\n",
      "0110 1 --> 0110 1\n",
      "0111 0 --> 0111 0\n",
      "0111 1 --> 0111 1\n",
      "1000 0 --> 1000 0\n",
      "1000 1 --> 1000 1\n",
      "1001 0 --> 1001 0\n",
      "1001 1 --> 1001 1\n",
      "1010 0 --> 1010 0\n",
      "1010 1 --> 1010 1\n",
      "1011 0 --> 1011 0\n",
      "1011 1 --> 1011 1\n",
      "1100 0 --> 1100 0\n",
      "1100 1 --> 1100 1\n",
      "1101 0 --> 1101 0\n",
      "1101 1 --> 1101 1\n",
      "1110 0 --> 1110 0\n",
      "1110 1 --> 1110 1\n",
      "1111 0 --> 1111 0\n",
      "1111 1 --> 1111 1\n"
     ]
    }
   ],
   "source": [
    "# try different values\n",
    "\n",
    "#c4not()\n",
    "#c4not('1001')\n",
    "c4not('0011')\n",
    "#c4not('1101')\n",
    "#c4not('0000')"
   ]
  },
  {
   "cell_type": "markdown",
   "metadata": {},
   "source": [
    "<a href=\"Q80_Multiple_Control_Constructions_Solutions.ipynb#task4\">click for our solution</a>"
   ]
  }
 ],
 "metadata": {
  "kernelspec": {
   "display_name": "Python 3 (ipykernel)",
   "language": "python",
   "name": "python3"
  },
  "language_info": {
   "codemirror_mode": {
    "name": "ipython",
    "version": 3
   },
   "file_extension": ".py",
   "mimetype": "text/x-python",
   "name": "python",
   "nbconvert_exporter": "python",
   "pygments_lexer": "ipython3",
   "version": "3.9.16"
  }
 },
 "nbformat": 4,
 "nbformat_minor": 4
}
