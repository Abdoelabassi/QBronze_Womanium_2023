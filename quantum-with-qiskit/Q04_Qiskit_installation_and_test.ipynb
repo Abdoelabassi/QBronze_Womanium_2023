{
 "cells": [
  {
   "cell_type": "markdown",
   "metadata": {},
   "source": [
    "<a href=\"https://qworld.net\" target=\"_blank\" align=\"left\"><img src=\"../qworld/images/header.jpg\"  align=\"left\"></a>\n",
    "$ \\newcommand{\\bra}[1]{\\langle #1|} $\n",
    "$ \\newcommand{\\ket}[1]{|#1\\rangle} $\n",
    "$ \\newcommand{\\braket}[2]{\\langle #1|#2\\rangle} $\n",
    "$ \\newcommand{\\dot}[2]{ #1 \\cdot #2} $\n",
    "$ \\newcommand{\\biginner}[2]{\\left\\langle #1,#2\\right\\rangle} $\n",
    "$ \\newcommand{\\mymatrix}[2]{\\left( \\begin{array}{#1} #2\\end{array} \\right)} $\n",
    "$ \\newcommand{\\myvector}[1]{\\mymatrix{c}{#1}} $\n",
    "$ \\newcommand{\\myrvector}[1]{\\mymatrix{r}{#1}} $\n",
    "$ \\newcommand{\\mypar}[1]{\\left( #1 \\right)} $\n",
    "$ \\newcommand{\\mybigpar}[1]{ \\Big( #1 \\Big)} $\n",
    "$ \\newcommand{\\sqrttwo}{\\frac{1}{\\sqrt{2}}} $\n",
    "$ \\newcommand{\\dsqrttwo}{\\dfrac{1}{\\sqrt{2}}} $\n",
    "$ \\newcommand{\\onehalf}{\\frac{1}{2}} $\n",
    "$ \\newcommand{\\donehalf}{\\dfrac{1}{2}} $\n",
    "$ \\newcommand{\\hadamard}{ \\mymatrix{rr}{ \\sqrttwo & \\sqrttwo \\\\ \\sqrttwo & -\\sqrttwo }} $\n",
    "$ \\newcommand{\\vzero}{\\myvector{1\\\\0}} $\n",
    "$ \\newcommand{\\vone}{\\myvector{0\\\\1}} $\n",
    "$ \\newcommand{\\stateplus}{\\myvector{ \\sqrttwo \\\\  \\sqrttwo } } $\n",
    "$ \\newcommand{\\stateminus}{ \\myrvector{ \\sqrttwo \\\\ -\\sqrttwo } } $\n",
    "$ \\newcommand{\\myarray}[2]{ \\begin{array}{#1}#2\\end{array}} $\n",
    "$ \\newcommand{\\X}{ \\mymatrix{cc}{0 & 1 \\\\ 1 & 0}  } $\n",
    "$ \\newcommand{\\I}{ \\mymatrix{rr}{1 & 0 \\\\ 0 & 1}  } $\n",
    "$ \\newcommand{\\Z}{ \\mymatrix{rr}{1 & 0 \\\\ 0 & -1}  } $\n",
    "$ \\newcommand{\\Htwo}{ \\mymatrix{rrrr}{ \\frac{1}{2} & \\frac{1}{2} & \\frac{1}{2} & \\frac{1}{2} \\\\ \\frac{1}{2} & -\\frac{1}{2} & \\frac{1}{2} & -\\frac{1}{2} \\\\ \\frac{1}{2} & \\frac{1}{2} & -\\frac{1}{2} & -\\frac{1}{2} \\\\ \\frac{1}{2} & -\\frac{1}{2} & -\\frac{1}{2} & \\frac{1}{2} } } $\n",
    "$ \\newcommand{\\CNOT}{ \\mymatrix{cccc}{1 & 0 & 0 & 0 \\\\ 0 & 1 & 0 & 0 \\\\ 0 & 0 & 0 & 1 \\\\ 0 & 0 & 1 & 0} } $\n",
    "$ \\newcommand{\\norm}[1]{ \\left\\lVert #1 \\right\\rVert } $\n",
    "$ \\newcommand{\\pstate}[1]{ \\lceil \\mspace{-1mu} #1 \\mspace{-1.5mu} \\rfloor } $\n",
    "$ \\newcommand{\\greenbit}[1] {\\mathbf{{\\color{green}#1}}} $\n",
    "$ \\newcommand{\\bluebit}[1] {\\mathbf{{\\color{blue}#1}}} $\n",
    "$ \\newcommand{\\redbit}[1] {\\mathbf{{\\color{red}#1}}} $\n",
    "$ \\newcommand{\\brownbit}[1] {\\mathbf{{\\color{brown}#1}}} $\n",
    "$ \\newcommand{\\blackbit}[1] {\\mathbf{{\\color{black}#1}}} $"
   ]
  },
  {
   "cell_type": "markdown",
   "metadata": {},
   "source": [
    "<font style=\"font-size:28px;\" align=\"left\"><b> Qiskit installation and test </b></font>\n",
    "<br>\n",
    "_prepared by Abuzer Yakaryilmaz_\n",
    "<br><br>"
   ]
  },
  {
   "cell_type": "markdown",
   "metadata": {},
   "source": [
    "- [Check your system](#check)\n",
    "- [Install qiskit](#install)\n",
    "- [Tips](#tips)\n",
    "- [Execute an example quantum program](#test)\n",
    "- [Complete test](#complete)"
   ]
  },
  {
   "cell_type": "markdown",
   "metadata": {},
   "source": [
    "<hr id=\"check\">\n",
    "\n",
    "### Check your system\n",
    "\n",
    "Check your system, if Qiskit has already been installed:"
   ]
  },
  {
   "cell_type": "code",
   "execution_count": 6,
   "metadata": {},
   "outputs": [
    {
     "name": "stdout",
     "output_type": "stream",
     "text": [
      "The version of Qiskit is 0.43.1\n",
      "\n",
      "The version of each component:\n",
      "qiskit-terra -> 0.24.1\n",
      "qiskit-aer -> 0.12.0\n",
      "qiskit-ignis -> None\n",
      "qiskit-ibmq-provider -> 0.20.2\n",
      "qiskit -> 0.43.1\n",
      "qiskit-nature -> None\n",
      "qiskit-finance -> None\n",
      "qiskit-optimization -> None\n",
      "qiskit-machine-learning -> None\n"
     ]
    }
   ],
   "source": [
    "import qiskit\n",
    "versions = qiskit.__qiskit_version__\n",
    "print(\"The version of Qiskit is\",versions['qiskit'])\n",
    "print()\n",
    "print(\"The version of each component:\")\n",
    "for key in versions:\n",
    "    print(key,\"->\",versions[key])"
   ]
  },
  {
   "cell_type": "markdown",
   "metadata": {},
   "source": [
    "**You should be able to see the version number of any library that is already installed in your system.**"
   ]
  },
  {
   "cell_type": "markdown",
   "metadata": {},
   "source": [
    "<hr id=\"install\">\n",
    "\n",
    "### Install qiskit\n",
    "\n",
    "(If you are an experienced user, visit this link: https://qiskit.org/documentation/install.html)\n",
    "\n",
    "You can install Qiskit by executing the following cell:"
   ]
  },
  {
   "cell_type": "code",
   "execution_count": 2,
   "metadata": {},
   "outputs": [
    {
     "name": "stdout",
     "output_type": "stream",
     "text": [
      "Requirement already satisfied: qiskit[visualization] in /Users/mac/anaconda3/envs/Qbronze-qiskit_env/lib/python3.9/site-packages (0.43.1)\n",
      "Requirement already satisfied: qiskit-terra==0.24.1 in /Users/mac/anaconda3/envs/Qbronze-qiskit_env/lib/python3.9/site-packages (from qiskit[visualization]) (0.24.1)\n",
      "Requirement already satisfied: qiskit-aer==0.12.0 in /Users/mac/anaconda3/envs/Qbronze-qiskit_env/lib/python3.9/site-packages (from qiskit[visualization]) (0.12.0)\n",
      "Requirement already satisfied: qiskit-ibmq-provider==0.20.2 in /Users/mac/anaconda3/envs/Qbronze-qiskit_env/lib/python3.9/site-packages (from qiskit[visualization]) (0.20.2)\n",
      "Collecting matplotlib>=2.1 (from qiskit[visualization])\n",
      "  Using cached matplotlib-3.7.1-cp39-cp39-macosx_10_12_x86_64.whl (7.4 MB)\n",
      "Collecting ipywidgets>=7.3.0 (from qiskit[visualization])\n",
      "  Downloading ipywidgets-8.0.6-py3-none-any.whl (138 kB)\n",
      "\u001b[2K     \u001b[38;2;114;156;31m━━━━━━━━━━━━━━━━━━━━━━━━━━━━━━━━━━━━━\u001b[0m \u001b[32m138.3/138.3 kB\u001b[0m \u001b[31m183.8 kB/s\u001b[0m eta \u001b[36m0:00:00\u001b[0m1m170.7 kB/s\u001b[0m eta \u001b[36m0:00:01\u001b[0m\n",
      "\u001b[?25hCollecting pydot (from qiskit[visualization])\n",
      "  Downloading pydot-1.4.2-py2.py3-none-any.whl (21 kB)\n",
      "Collecting pillow>=4.2.1 (from qiskit[visualization])\n",
      "  Using cached Pillow-9.5.0-cp39-cp39-macosx_10_10_x86_64.whl (3.4 MB)\n",
      "Collecting pylatexenc>=1.4 (from qiskit[visualization])\n",
      "  Downloading pylatexenc-2.10.tar.gz (162 kB)\n",
      "\u001b[2K     \u001b[38;2;114;156;31m━━━━━━━━━━━━━━━━━━━━━━━━━━━━━━━━━━━━━\u001b[0m \u001b[32m162.6/162.6 kB\u001b[0m \u001b[31m104.7 kB/s\u001b[0m eta \u001b[36m0:00:00\u001b[0m31m99.7 kB/s\u001b[0m eta \u001b[36m0:00:01\u001b[0m\n",
      "\u001b[?25h  Preparing metadata (setup.py) ... \u001b[?25ldone\n",
      "\u001b[?25hCollecting seaborn>=0.9.0 (from qiskit[visualization])\n",
      "  Using cached seaborn-0.12.2-py3-none-any.whl (293 kB)\n",
      "Requirement already satisfied: pygments>=2.4 in /Users/mac/anaconda3/envs/Qbronze-qiskit_env/lib/python3.9/site-packages (from qiskit[visualization]) (2.15.1)\n",
      "Requirement already satisfied: numpy>=1.16.3 in /Users/mac/anaconda3/envs/Qbronze-qiskit_env/lib/python3.9/site-packages (from qiskit-aer==0.12.0->qiskit[visualization]) (1.23.5)\n",
      "Requirement already satisfied: scipy>=1.0 in /Users/mac/anaconda3/envs/Qbronze-qiskit_env/lib/python3.9/site-packages (from qiskit-aer==0.12.0->qiskit[visualization]) (1.11.0)\n",
      "Requirement already satisfied: requests>=2.19 in /Users/mac/anaconda3/envs/Qbronze-qiskit_env/lib/python3.9/site-packages (from qiskit-ibmq-provider==0.20.2->qiskit[visualization]) (2.31.0)\n",
      "Requirement already satisfied: requests-ntlm<=1.1.0 in /Users/mac/anaconda3/envs/Qbronze-qiskit_env/lib/python3.9/site-packages (from qiskit-ibmq-provider==0.20.2->qiskit[visualization]) (1.1.0)\n",
      "Requirement already satisfied: urllib3>=1.21.1 in /Users/mac/anaconda3/envs/Qbronze-qiskit_env/lib/python3.9/site-packages (from qiskit-ibmq-provider==0.20.2->qiskit[visualization]) (2.0.3)\n",
      "Requirement already satisfied: python-dateutil>=2.8.0 in /Users/mac/anaconda3/envs/Qbronze-qiskit_env/lib/python3.9/site-packages (from qiskit-ibmq-provider==0.20.2->qiskit[visualization]) (2.8.2)\n",
      "Requirement already satisfied: websocket-client>=1.5.1 in /Users/mac/anaconda3/envs/Qbronze-qiskit_env/lib/python3.9/site-packages (from qiskit-ibmq-provider==0.20.2->qiskit[visualization]) (1.6.1)\n",
      "Requirement already satisfied: websockets>=10.0 in /Users/mac/anaconda3/envs/Qbronze-qiskit_env/lib/python3.9/site-packages (from qiskit-ibmq-provider==0.20.2->qiskit[visualization]) (11.0.3)\n",
      "Requirement already satisfied: rustworkx>=0.12.0 in /Users/mac/anaconda3/envs/Qbronze-qiskit_env/lib/python3.9/site-packages (from qiskit-terra==0.24.1->qiskit[visualization]) (0.13.0)\n",
      "Requirement already satisfied: ply>=3.10 in /Users/mac/anaconda3/envs/Qbronze-qiskit_env/lib/python3.9/site-packages (from qiskit-terra==0.24.1->qiskit[visualization]) (3.11)\n",
      "Requirement already satisfied: psutil>=5 in /Users/mac/anaconda3/envs/Qbronze-qiskit_env/lib/python3.9/site-packages (from qiskit-terra==0.24.1->qiskit[visualization]) (5.9.5)\n",
      "Requirement already satisfied: sympy>=1.3 in /Users/mac/anaconda3/envs/Qbronze-qiskit_env/lib/python3.9/site-packages (from qiskit-terra==0.24.1->qiskit[visualization]) (1.12)\n",
      "Requirement already satisfied: dill>=0.3 in /Users/mac/anaconda3/envs/Qbronze-qiskit_env/lib/python3.9/site-packages (from qiskit-terra==0.24.1->qiskit[visualization]) (0.3.6)\n",
      "Requirement already satisfied: stevedore>=3.0.0 in /Users/mac/anaconda3/envs/Qbronze-qiskit_env/lib/python3.9/site-packages (from qiskit-terra==0.24.1->qiskit[visualization]) (5.1.0)\n",
      "Requirement already satisfied: symengine<0.10,>=0.9 in /Users/mac/anaconda3/envs/Qbronze-qiskit_env/lib/python3.9/site-packages (from qiskit-terra==0.24.1->qiskit[visualization]) (0.9.2)\n",
      "Requirement already satisfied: ipykernel>=4.5.1 in /Users/mac/anaconda3/envs/Qbronze-qiskit_env/lib/python3.9/site-packages (from ipywidgets>=7.3.0->qiskit[visualization]) (6.23.3)\n",
      "Requirement already satisfied: ipython>=6.1.0 in /Users/mac/anaconda3/envs/Qbronze-qiskit_env/lib/python3.9/site-packages (from ipywidgets>=7.3.0->qiskit[visualization]) (8.14.0)\n",
      "Requirement already satisfied: traitlets>=4.3.1 in /Users/mac/anaconda3/envs/Qbronze-qiskit_env/lib/python3.9/site-packages (from ipywidgets>=7.3.0->qiskit[visualization]) (5.9.0)\n",
      "Collecting widgetsnbextension~=4.0.7 (from ipywidgets>=7.3.0->qiskit[visualization])\n",
      "  Downloading widgetsnbextension-4.0.7-py3-none-any.whl (2.1 MB)\n",
      "\u001b[2K     \u001b[38;2;114;156;31m━━━━━━━━━━━━━━━━━━━━━━━━━━━━━━━━━━━━━━━━\u001b[0m \u001b[32m2.1/2.1 MB\u001b[0m \u001b[31m61.0 kB/s\u001b[0m eta \u001b[36m0:00:00\u001b[0mm eta \u001b[36m0:00:01\u001b[0m[36m0:00:01\u001b[0mm\n",
      "\u001b[?25hCollecting jupyterlab-widgets~=3.0.7 (from ipywidgets>=7.3.0->qiskit[visualization])\n",
      "  Downloading jupyterlab_widgets-3.0.7-py3-none-any.whl (198 kB)\n",
      "\u001b[2K     \u001b[38;2;114;156;31m━━━━━━━━━━━━━━━━━━━━━━━━━━━━━━━━━━━━━━\u001b[0m \u001b[32m198.2/198.2 kB\u001b[0m \u001b[31m24.9 kB/s\u001b[0m eta \u001b[36m0:00:00\u001b[0m[36m0:00:01\u001b[0m[36m0:00:02\u001b[0m:05\u001b[0m\n",
      "\u001b[?25hCollecting contourpy>=1.0.1 (from matplotlib>=2.1->qiskit[visualization])\n",
      "  Downloading contourpy-1.1.0-cp39-cp39-macosx_10_9_x86_64.whl (243 kB)\n",
      "\u001b[2K     \u001b[38;2;114;156;31m━━━━━━━━━━━━━━━━━━━━━━━━━━━━━━━━━━━━━\u001b[0m \u001b[32m243.7/243.7 kB\u001b[0m \u001b[31m134.7 kB/s\u001b[0m eta \u001b[36m0:00:00\u001b[0m1m131.2 kB/s\u001b[0m eta \u001b[36m0:00:01\u001b[0m\n",
      "\u001b[?25hCollecting cycler>=0.10 (from matplotlib>=2.1->qiskit[visualization])\n",
      "  Using cached cycler-0.11.0-py3-none-any.whl (6.4 kB)\n",
      "Collecting fonttools>=4.22.0 (from matplotlib>=2.1->qiskit[visualization])\n",
      "  Downloading fonttools-4.40.0-cp39-cp39-macosx_10_9_x86_64.whl (2.1 MB)\n",
      "\u001b[2K     \u001b[38;2;114;156;31m━━━━━━━━━━━━━━━━━━━━━━━━━━━━━━━━━━━━━━━━\u001b[0m \u001b[32m2.1/2.1 MB\u001b[0m \u001b[31m27.4 kB/s\u001b[0m eta \u001b[36m0:00:00\u001b[0mm eta \u001b[36m0:00:01\u001b[0m[36m0:00:03\u001b[0m\n",
      "\u001b[?25h\u001b[33mWARNING: Retrying (Retry(total=4, connect=None, read=None, redirect=None, status=None)) after connection broken by 'ReadTimeoutError(\"HTTPSConnectionPool(host='pypi.org', port=443): Read timed out. (read timeout=15)\")': /simple/kiwisolver/\u001b[0m\u001b[33m\n",
      "\u001b[0mCollecting kiwisolver>=1.0.1 (from matplotlib>=2.1->qiskit[visualization])\n",
      "  Using cached kiwisolver-1.4.4-cp39-cp39-macosx_10_9_x86_64.whl (65 kB)\n",
      "Requirement already satisfied: packaging>=20.0 in /Users/mac/anaconda3/envs/Qbronze-qiskit_env/lib/python3.9/site-packages (from matplotlib>=2.1->qiskit[visualization]) (23.1)\n",
      "Collecting pyparsing>=2.3.1 (from matplotlib>=2.1->qiskit[visualization])\n",
      "  Downloading pyparsing-3.1.0-py3-none-any.whl (102 kB)\n",
      "\u001b[2K     \u001b[38;2;114;156;31m━━━━━━━━━━━━━━━━━━━━━━━━━━━━━━━━━━━━━━\u001b[0m \u001b[32m102.6/102.6 kB\u001b[0m \u001b[31m24.5 kB/s\u001b[0m eta \u001b[36m0:00:00\u001b[0mm eta \u001b[36m0:00:01\u001b[0m0:01\u001b[0m:03\u001b[0m\n",
      "\u001b[?25hCollecting importlib-resources>=3.2.0 (from matplotlib>=2.1->qiskit[visualization])\n",
      "  Using cached importlib_resources-5.12.0-py3-none-any.whl (36 kB)\n",
      "Collecting pandas>=0.25 (from seaborn>=0.9.0->qiskit[visualization])\n",
      "  Using cached pandas-2.0.2-cp39-cp39-macosx_10_9_x86_64.whl (11.8 MB)\n",
      "Requirement already satisfied: zipp>=3.1.0 in /Users/mac/anaconda3/envs/Qbronze-qiskit_env/lib/python3.9/site-packages (from importlib-resources>=3.2.0->matplotlib>=2.1->qiskit[visualization]) (3.15.0)\n",
      "Requirement already satisfied: appnope in /Users/mac/anaconda3/envs/Qbronze-qiskit_env/lib/python3.9/site-packages (from ipykernel>=4.5.1->ipywidgets>=7.3.0->qiskit[visualization]) (0.1.3)\n",
      "Requirement already satisfied: comm>=0.1.1 in /Users/mac/anaconda3/envs/Qbronze-qiskit_env/lib/python3.9/site-packages (from ipykernel>=4.5.1->ipywidgets>=7.3.0->qiskit[visualization]) (0.1.3)\n",
      "Requirement already satisfied: debugpy>=1.6.5 in /Users/mac/anaconda3/envs/Qbronze-qiskit_env/lib/python3.9/site-packages (from ipykernel>=4.5.1->ipywidgets>=7.3.0->qiskit[visualization]) (1.6.7)\n",
      "Requirement already satisfied: jupyter-client>=6.1.12 in /Users/mac/anaconda3/envs/Qbronze-qiskit_env/lib/python3.9/site-packages (from ipykernel>=4.5.1->ipywidgets>=7.3.0->qiskit[visualization]) (8.3.0)\n",
      "Requirement already satisfied: jupyter-core!=5.0.*,>=4.12 in /Users/mac/anaconda3/envs/Qbronze-qiskit_env/lib/python3.9/site-packages (from ipykernel>=4.5.1->ipywidgets>=7.3.0->qiskit[visualization]) (5.3.1)\n",
      "Requirement already satisfied: matplotlib-inline>=0.1 in /Users/mac/anaconda3/envs/Qbronze-qiskit_env/lib/python3.9/site-packages (from ipykernel>=4.5.1->ipywidgets>=7.3.0->qiskit[visualization]) (0.1.6)\n",
      "Requirement already satisfied: nest-asyncio in /Users/mac/anaconda3/envs/Qbronze-qiskit_env/lib/python3.9/site-packages (from ipykernel>=4.5.1->ipywidgets>=7.3.0->qiskit[visualization]) (1.5.6)\n",
      "Requirement already satisfied: pyzmq>=20 in /Users/mac/anaconda3/envs/Qbronze-qiskit_env/lib/python3.9/site-packages (from ipykernel>=4.5.1->ipywidgets>=7.3.0->qiskit[visualization]) (25.1.0)\n",
      "Requirement already satisfied: tornado>=6.1 in /Users/mac/anaconda3/envs/Qbronze-qiskit_env/lib/python3.9/site-packages (from ipykernel>=4.5.1->ipywidgets>=7.3.0->qiskit[visualization]) (6.3.2)\n",
      "Requirement already satisfied: backcall in /Users/mac/anaconda3/envs/Qbronze-qiskit_env/lib/python3.9/site-packages (from ipython>=6.1.0->ipywidgets>=7.3.0->qiskit[visualization]) (0.2.0)\n",
      "Requirement already satisfied: decorator in /Users/mac/anaconda3/envs/Qbronze-qiskit_env/lib/python3.9/site-packages (from ipython>=6.1.0->ipywidgets>=7.3.0->qiskit[visualization]) (5.1.1)\n",
      "Requirement already satisfied: jedi>=0.16 in /Users/mac/anaconda3/envs/Qbronze-qiskit_env/lib/python3.9/site-packages (from ipython>=6.1.0->ipywidgets>=7.3.0->qiskit[visualization]) (0.18.2)\n",
      "Requirement already satisfied: pickleshare in /Users/mac/anaconda3/envs/Qbronze-qiskit_env/lib/python3.9/site-packages (from ipython>=6.1.0->ipywidgets>=7.3.0->qiskit[visualization]) (0.7.5)\n",
      "Requirement already satisfied: prompt-toolkit!=3.0.37,<3.1.0,>=3.0.30 in /Users/mac/anaconda3/envs/Qbronze-qiskit_env/lib/python3.9/site-packages (from ipython>=6.1.0->ipywidgets>=7.3.0->qiskit[visualization]) (3.0.38)\n",
      "Requirement already satisfied: stack-data in /Users/mac/anaconda3/envs/Qbronze-qiskit_env/lib/python3.9/site-packages (from ipython>=6.1.0->ipywidgets>=7.3.0->qiskit[visualization]) (0.6.2)\n",
      "Requirement already satisfied: typing-extensions in /Users/mac/anaconda3/envs/Qbronze-qiskit_env/lib/python3.9/site-packages (from ipython>=6.1.0->ipywidgets>=7.3.0->qiskit[visualization]) (4.6.3)\n",
      "Requirement already satisfied: pexpect>4.3 in /Users/mac/anaconda3/envs/Qbronze-qiskit_env/lib/python3.9/site-packages (from ipython>=6.1.0->ipywidgets>=7.3.0->qiskit[visualization]) (4.8.0)\n",
      "Collecting pytz>=2020.1 (from pandas>=0.25->seaborn>=0.9.0->qiskit[visualization])\n",
      "  Using cached pytz-2023.3-py2.py3-none-any.whl (502 kB)\n",
      "Collecting tzdata>=2022.1 (from pandas>=0.25->seaborn>=0.9.0->qiskit[visualization])\n",
      "  Using cached tzdata-2023.3-py2.py3-none-any.whl (341 kB)\n",
      "Requirement already satisfied: six>=1.5 in /Users/mac/anaconda3/envs/Qbronze-qiskit_env/lib/python3.9/site-packages (from python-dateutil>=2.8.0->qiskit-ibmq-provider==0.20.2->qiskit[visualization]) (1.16.0)\n",
      "Requirement already satisfied: charset-normalizer<4,>=2 in /Users/mac/anaconda3/envs/Qbronze-qiskit_env/lib/python3.9/site-packages (from requests>=2.19->qiskit-ibmq-provider==0.20.2->qiskit[visualization]) (3.1.0)\n",
      "Requirement already satisfied: idna<4,>=2.5 in /Users/mac/anaconda3/envs/Qbronze-qiskit_env/lib/python3.9/site-packages (from requests>=2.19->qiskit-ibmq-provider==0.20.2->qiskit[visualization]) (3.4)\n",
      "Requirement already satisfied: certifi>=2017.4.17 in /Users/mac/anaconda3/envs/Qbronze-qiskit_env/lib/python3.9/site-packages (from requests>=2.19->qiskit-ibmq-provider==0.20.2->qiskit[visualization]) (2023.5.7)\n",
      "Requirement already satisfied: ntlm-auth>=1.0.2 in /Users/mac/anaconda3/envs/Qbronze-qiskit_env/lib/python3.9/site-packages (from requests-ntlm<=1.1.0->qiskit-ibmq-provider==0.20.2->qiskit[visualization]) (1.5.0)\n",
      "Requirement already satisfied: cryptography>=1.3 in /Users/mac/anaconda3/envs/Qbronze-qiskit_env/lib/python3.9/site-packages (from requests-ntlm<=1.1.0->qiskit-ibmq-provider==0.20.2->qiskit[visualization]) (41.0.1)\n",
      "Requirement already satisfied: pbr!=2.1.0,>=2.0.0 in /Users/mac/anaconda3/envs/Qbronze-qiskit_env/lib/python3.9/site-packages (from stevedore>=3.0.0->qiskit-terra==0.24.1->qiskit[visualization]) (5.11.1)\n",
      "Requirement already satisfied: mpmath>=0.19 in /Users/mac/anaconda3/envs/Qbronze-qiskit_env/lib/python3.9/site-packages (from sympy>=1.3->qiskit-terra==0.24.1->qiskit[visualization]) (1.3.0)\n",
      "Requirement already satisfied: cffi>=1.12 in /Users/mac/anaconda3/envs/Qbronze-qiskit_env/lib/python3.9/site-packages (from cryptography>=1.3->requests-ntlm<=1.1.0->qiskit-ibmq-provider==0.20.2->qiskit[visualization]) (1.15.1)\n",
      "Requirement already satisfied: parso<0.9.0,>=0.8.0 in /Users/mac/anaconda3/envs/Qbronze-qiskit_env/lib/python3.9/site-packages (from jedi>=0.16->ipython>=6.1.0->ipywidgets>=7.3.0->qiskit[visualization]) (0.8.3)\n",
      "Requirement already satisfied: importlib-metadata>=4.8.3 in /Users/mac/anaconda3/envs/Qbronze-qiskit_env/lib/python3.9/site-packages (from jupyter-client>=6.1.12->ipykernel>=4.5.1->ipywidgets>=7.3.0->qiskit[visualization]) (6.7.0)\n",
      "Requirement already satisfied: platformdirs>=2.5 in /Users/mac/anaconda3/envs/Qbronze-qiskit_env/lib/python3.9/site-packages (from jupyter-core!=5.0.*,>=4.12->ipykernel>=4.5.1->ipywidgets>=7.3.0->qiskit[visualization]) (3.8.0)\n",
      "Requirement already satisfied: ptyprocess>=0.5 in /Users/mac/anaconda3/envs/Qbronze-qiskit_env/lib/python3.9/site-packages (from pexpect>4.3->ipython>=6.1.0->ipywidgets>=7.3.0->qiskit[visualization]) (0.7.0)\n",
      "Requirement already satisfied: wcwidth in /Users/mac/anaconda3/envs/Qbronze-qiskit_env/lib/python3.9/site-packages (from prompt-toolkit!=3.0.37,<3.1.0,>=3.0.30->ipython>=6.1.0->ipywidgets>=7.3.0->qiskit[visualization]) (0.2.6)\n",
      "Requirement already satisfied: executing>=1.2.0 in /Users/mac/anaconda3/envs/Qbronze-qiskit_env/lib/python3.9/site-packages (from stack-data->ipython>=6.1.0->ipywidgets>=7.3.0->qiskit[visualization]) (1.2.0)\n",
      "Requirement already satisfied: asttokens>=2.1.0 in /Users/mac/anaconda3/envs/Qbronze-qiskit_env/lib/python3.9/site-packages (from stack-data->ipython>=6.1.0->ipywidgets>=7.3.0->qiskit[visualization]) (2.2.1)\n",
      "Requirement already satisfied: pure-eval in /Users/mac/anaconda3/envs/Qbronze-qiskit_env/lib/python3.9/site-packages (from stack-data->ipython>=6.1.0->ipywidgets>=7.3.0->qiskit[visualization]) (0.2.2)\n",
      "Requirement already satisfied: pycparser in /Users/mac/anaconda3/envs/Qbronze-qiskit_env/lib/python3.9/site-packages (from cffi>=1.12->cryptography>=1.3->requests-ntlm<=1.1.0->qiskit-ibmq-provider==0.20.2->qiskit[visualization]) (2.21)\n",
      "Building wheels for collected packages: pylatexenc\n",
      "  Building wheel for pylatexenc (setup.py) ... \u001b[?25ldone\n",
      "\u001b[?25h  Created wheel for pylatexenc: filename=pylatexenc-2.10-py3-none-any.whl size=136819 sha256=94c9dfc3de3ee09a3855126337989ebc42e0c58da9f34d454f733f5f36a60b52\n",
      "  Stored in directory: /Users/mac/Library/Caches/pip/wheels/a3/68/66/2f15abd0673d83c02f354115feedeb89c3daed2ac319b11090\n",
      "Successfully built pylatexenc\n",
      "Installing collected packages: pytz, pylatexenc, widgetsnbextension, tzdata, pyparsing, pillow, kiwisolver, jupyterlab-widgets, importlib-resources, fonttools, cycler, contourpy, pydot, pandas, matplotlib, seaborn, ipywidgets\n",
      "\u001b[33m  WARNING: The scripts latex2text, latexencode and latexwalker are installed in '/Users/mac/.local/bin' which is not on PATH.\n",
      "  Consider adding this directory to PATH or, if you prefer to suppress this warning, use --no-warn-script-location.\u001b[0m\u001b[33m\n",
      "\u001b[0m\u001b[33m  WARNING: The scripts fonttools, pyftmerge, pyftsubset and ttx are installed in '/Users/mac/.local/bin' which is not on PATH.\n",
      "  Consider adding this directory to PATH or, if you prefer to suppress this warning, use --no-warn-script-location.\u001b[0m\u001b[33m\n",
      "\u001b[0mSuccessfully installed contourpy-1.1.0 cycler-0.11.0 fonttools-4.40.0 importlib-resources-5.12.0 ipywidgets-8.0.6 jupyterlab-widgets-3.0.7 kiwisolver-1.4.4 matplotlib-3.7.1 pandas-2.0.2 pillow-9.5.0 pydot-1.4.2 pylatexenc-2.10 pyparsing-3.1.0 pytz-2023.3 seaborn-0.12.2 tzdata-2023.3 widgetsnbextension-4.0.7\n"
     ]
    }
   ],
   "source": [
    "!pip install \"qiskit[visualization]\" --user"
   ]
  },
  {
   "cell_type": "markdown",
   "metadata": {},
   "source": [
    "__*Restart the kernel*__ (check \"Kernel\" menu) to apply the changes to the current notebook."
   ]
  },
  {
   "cell_type": "markdown",
   "metadata": {},
   "source": [
    "<hr id=\"tips\">\n",
    "\n",
    "### Tips\n",
    "\n",
    "_Any terminal/shell command can be executed in the notebook cells by putting an exclamation mark (!) at the beginning of the command._\n",
    "\n",
    "_$\\rightarrow$ To update Qiskit to the latest version, execute the following command in a code cell_\n",
    "\n",
    "    !pip install -U qiskit --user\n",
    "    \n",
    "_$\\rightarrow$ To uninstall Qiskit, execute the following command in a code cell_\n",
    "\n",
    "    !pip uninstall qiskit"
   ]
  },
  {
   "cell_type": "code",
   "execution_count": null,
   "metadata": {},
   "outputs": [],
   "source": [
    "#!pip install -U qiskit --user\n",
    "#!pip uninstall qiskit"
   ]
  },
  {
   "cell_type": "markdown",
   "metadata": {},
   "source": [
    "<hr id=\"test\">\n",
    "\n",
    "### Execute an example quantum program\n"
   ]
  },
  {
   "cell_type": "markdown",
   "metadata": {},
   "source": [
    "1) Create a quantum circuit"
   ]
  },
  {
   "cell_type": "code",
   "execution_count": 2,
   "metadata": {},
   "outputs": [
    {
     "name": "stdout",
     "output_type": "stream",
     "text": [
      "The execution of the cell was completed, and the circuit was created :)\n"
     ]
    }
   ],
   "source": [
    "# import the objects from qiskit\n",
    "from qiskit import QuantumRegister, ClassicalRegister, QuantumCircuit, execute, Aer\n",
    "from random import randrange\n",
    "\n",
    "# create a quantum circuit and its register objects\n",
    "qreg = QuantumRegister(2) # quantum register with two quantum bits\n",
    "creg = ClassicalRegister(2) # classical register with two classical bit\n",
    "circuit = QuantumCircuit(qreg,creg) # quantum circuit composed by a quantum register and a classical register\n",
    "\n",
    "# apply a Hadamard gate to the first qubit\n",
    "circuit.h(qreg[0])\n",
    "\n",
    "# set the second qubit to state |1>\n",
    "circuit.x(qreg[1])\n",
    "\n",
    "# apply CNOT(first_qubit,second_qubit)\n",
    "circuit.cx(qreg[0],qreg[1])\n",
    "\n",
    "# measure the both qubits\n",
    "circuit.measure(qreg,creg)\n",
    "\n",
    "print(\"The execution of the cell was completed, and the circuit was created :)\")"
   ]
  },
  {
   "cell_type": "markdown",
   "metadata": {},
   "source": [
    "2) Draw the circuit\n",
    "\n",
    "_Run the cell once more if the figure is not shown_"
   ]
  },
  {
   "cell_type": "code",
   "execution_count": 7,
   "metadata": {},
   "outputs": [
    {
     "name": "stdout",
     "output_type": "stream",
     "text": [
      "Requirement already satisfied: matplotlib in /Users/mac/.local/lib/python3.9/site-packages (3.7.1)\n",
      "Requirement already satisfied: contourpy>=1.0.1 in /Users/mac/.local/lib/python3.9/site-packages (from matplotlib) (1.1.0)\n",
      "Requirement already satisfied: cycler>=0.10 in /Users/mac/.local/lib/python3.9/site-packages (from matplotlib) (0.11.0)\n",
      "Requirement already satisfied: fonttools>=4.22.0 in /Users/mac/.local/lib/python3.9/site-packages (from matplotlib) (4.40.0)\n",
      "Requirement already satisfied: kiwisolver>=1.0.1 in /Users/mac/.local/lib/python3.9/site-packages (from matplotlib) (1.4.4)\n",
      "Requirement already satisfied: numpy>=1.20 in /Users/mac/anaconda3/envs/Qbronze-qiskit_env/lib/python3.9/site-packages (from matplotlib) (1.23.5)\n",
      "Requirement already satisfied: packaging>=20.0 in /Users/mac/anaconda3/envs/Qbronze-qiskit_env/lib/python3.9/site-packages (from matplotlib) (23.1)\n",
      "Requirement already satisfied: pillow>=6.2.0 in /Users/mac/.local/lib/python3.9/site-packages (from matplotlib) (9.5.0)\n",
      "Requirement already satisfied: pyparsing>=2.3.1 in /Users/mac/.local/lib/python3.9/site-packages (from matplotlib) (3.1.0)\n",
      "Requirement already satisfied: python-dateutil>=2.7 in /Users/mac/anaconda3/envs/Qbronze-qiskit_env/lib/python3.9/site-packages (from matplotlib) (2.8.2)\n",
      "Requirement already satisfied: importlib-resources>=3.2.0 in /Users/mac/.local/lib/python3.9/site-packages (from matplotlib) (5.12.0)\n",
      "Requirement already satisfied: zipp>=3.1.0 in /Users/mac/anaconda3/envs/Qbronze-qiskit_env/lib/python3.9/site-packages (from importlib-resources>=3.2.0->matplotlib) (3.15.0)\n",
      "Requirement already satisfied: six>=1.5 in /Users/mac/anaconda3/envs/Qbronze-qiskit_env/lib/python3.9/site-packages (from python-dateutil>=2.7->matplotlib) (1.16.0)\n"
     ]
    }
   ],
   "source": [
    "!pip install matplotlib"
   ]
  },
  {
   "cell_type": "code",
   "execution_count": 3,
   "metadata": {},
   "outputs": [
    {
     "data": {
      "image/png": "[encoded data removed]",
      "text/plain": [
       "<Figure size 472.545x284.278 with 1 Axes>"
      ]
     },
     "execution_count": 3,
     "metadata": {},
     "output_type": "execute_result"
    }
   ],
   "source": [
    "# draw circuit \n",
    "import matplotlib.pyplot as plt\n",
    "circuit.draw(output='mpl')\n",
    "\n",
    "# the output will be a \"matplotlib.Figure\" object"
   ]
  },
  {
   "cell_type": "markdown",
   "metadata": {},
   "source": [
    "3) Execute the circuit 1024 times in the local simulator and print the observed the outcomes"
   ]
  },
  {
   "cell_type": "code",
   "execution_count": 4,
   "metadata": {},
   "outputs": [
    {
     "name": "stdout",
     "output_type": "stream",
     "text": [
      "{'10': 520, '01': 504}\n"
     ]
    }
   ],
   "source": [
    "## execute the circuit 1024 times\n",
    "job = execute(circuit,Aer.get_backend('qasm_simulator'),shots=1024)\n",
    "# get the result\n",
    "counts = job.result().get_counts(circuit)\n",
    "print(counts)"
   ]
  },
  {
   "cell_type": "markdown",
   "metadata": {},
   "source": [
    "<hr id=\"complete\">\n",
    "\n",
    "### Complete test\n",
    "\n",
    "Here we put all methods and objects of Qiskit used througout this tutorial (see [Qiskit: Quick Reference](Q01_Qiskit_Reference.ipynb) for a complete list).\n",
    "\n",
    "By running the cell below, you should be able to test whether your Qiskit installation is ready for our tutorial.\n",
    "\n",
    "_It was tested with Qiskit 0.37.0 on July 10, 2022._"
   ]
  },
  {
   "cell_type": "code",
   "execution_count": 1,
   "metadata": {},
   "outputs": [
    {
     "data": {
      "text/html": [
       "<pre style=\"word-wrap: normal;white-space: pre;background: #fff0;line-height: 1.1;font-family: &quot;Courier New&quot;,Courier,monospace\">                 ┌───┐┌───────────────┐┌───┐ ░ ┌─┐            \n",
       "q_0: ────────────┤ X ├┤ U(2π/7,0,0,0) ├┤ X ├─░─┤M├────────────\n",
       "        ┌───┐    └─┬─┘└───────┬───────┘└─┬─┘ ░ └╥┘┌─┐         \n",
       "q_1: ───┤ H ├──────■──────────■──────────■───░──╫─┤M├─────────\n",
       "        ├───┤                            │   ░  ║ └╥┘┌─┐      \n",
       "q_2: ───┤ X ├────────────────────────────■───░──╫──╫─┤M├──────\n",
       "     ┌──┴───┴───┐                            ░  ║  ║ └╥┘┌─┐   \n",
       "q_3: ┤ Ry(2π/7) ├────────────────────────────░──╫──╫──╫─┤M├───\n",
       "     └──┬───┬───┘                            ░  ║  ║  ║ └╥┘┌─┐\n",
       "q_4: ───┤ Z ├────────────────────────────────░──╫──╫──╫──╫─┤M├\n",
       "        └───┘                                ░  ║  ║  ║  ║ └╥┘\n",
       "c: 5/═══════════════════════════════════════════╩══╩══╩══╩══╩═\n",
       "                                                3  1  4  0  2 </pre>"
      ],
      "text/plain": [
       "                 ┌───┐┌───────────────┐┌───┐ ░ ┌─┐            \n",
       "q_0: ────────────┤ X ├┤ U(2π/7,0,0,0) ├┤ X ├─░─┤M├────────────\n",
       "        ┌───┐    └─┬─┘└───────┬───────┘└─┬─┘ ░ └╥┘┌─┐         \n",
       "q_1: ───┤ H ├──────■──────────■──────────■───░──╫─┤M├─────────\n",
       "        ├───┤                            │   ░  ║ └╥┘┌─┐      \n",
       "q_2: ───┤ X ├────────────────────────────■───░──╫──╫─┤M├──────\n",
       "     ┌──┴───┴───┐                            ░  ║  ║ └╥┘┌─┐   \n",
       "q_3: ┤ Ry(2π/7) ├────────────────────────────░──╫──╫──╫─┤M├───\n",
       "     └──┬───┬───┘                            ░  ║  ║  ║ └╥┘┌─┐\n",
       "q_4: ───┤ Z ├────────────────────────────────░──╫──╫──╫──╫─┤M├\n",
       "        └───┘                                ░  ║  ║  ║  ║ └╥┘\n",
       "c: 5/═══════════════════════════════════════════╩══╩══╩══╩══╩═\n",
       "                                                3  1  4  0  2 "
      ]
     },
     "metadata": {},
     "output_type": "display_data"
    },
    {
     "data": {
      "image/png": "[encoded data removed]",
      "text/plain": [
       "<Figure size 1625.27x869.556 with 1 Axes>"
      ]
     },
     "metadata": {},
     "output_type": "display_data"
    },
    {
     "name": "stdout",
     "output_type": "stream",
     "text": [
      "measurement outcomes are: {'11010': 77, '10010': 364, '10011': 68, '10000': 373, '10001': 102, '11011': 16}\n",
      "\n",
      "unitary matrix is\n",
      "[[ 0.   +0.j  0.   +0.j  0.532+0.j  0.847-0.j]\n",
      " [ 0.847+0.j -0.532+0.j  0.   +0.j  0.   +0.j]\n",
      " [ 0.532+0.j  0.847-0.j  0.   +0.j  0.   +0.j]\n",
      " [ 0.   +0.j  0.   +0.j  0.847+0.j -0.532+0.j]]\n",
      "\n",
      "quantum state is\n",
      "0.0+0.0j\n",
      "0.847+0.0j\n",
      "0.532+0.0j\n",
      "0.0+0.0j\n",
      "\n",
      "All looks fine :-)\n"
     ]
    }
   ],
   "source": [
    "from qiskit import QuantumRegister, ClassicalRegister, QuantumCircuit, execute, Aer\n",
    "from math import pi\n",
    "\n",
    "# A quantum circuit is composed by a quantum and a classical register in Qiskit\n",
    "q = QuantumRegister(5,\"q\") # this quantum register has 5 qubits\n",
    "c = ClassicalRegister(5,\"c\") # this classical register has 5 classical bits\n",
    "\n",
    "qc = QuantumCircuit(q,c) # a quantum circuit with quantum and classical registers q and c\n",
    "\n",
    "qc.x(q[2]) # apply x-gate to the qubit \"q[2]\" of the quantum circuit \"qc\"\n",
    "qc.z(q[4]) # apply z-gate to the qubit \"q[4]\" of the quantum circuit \"qc\"\n",
    "qc.h(q[1]) # apply h-gate to the qubit \"q[1]\" of the quantum circuit \"qc\"\n",
    "\n",
    "a = pi/7\n",
    "qc.ry(2*a,q[3]) # apply ry-gate with the specified angle to the qubit \"q[3]\" of the quantum circuit \"qc\"\n",
    "\n",
    "qc.cx(q[1],q[0]) # apply cx-gate to the qubits \"q[1]\" and \"q[0]\" of the quantum circuit \"qc\"\n",
    "\n",
    "qc.cu(2*a,0,0,0,q[1],q[0]) # apply controlled rotation operator with the specified angle \n",
    "                          #  to the qubits \"q[1]\" and \"q[0]\" of the quantum circuit \"qc\"\n",
    "\n",
    "qc.ccx(q[2],q[1],q[0]) # apply ccx-gate to the qubits \"q[2]\", \"q[1]\", and \"q[0]\" of the quantum circuit \"qc\"\n",
    "\n",
    "qc.barrier()\n",
    "\n",
    "qc.measure(q[0],c[3]) # measure q[0] and write the output on c[3]\n",
    "qc.measure(q[1],c[1]) # measure q[1] and write the output on c[1]\n",
    "qc.measure(q[2],c[4]) # measure q[2] and write the output on c[4]\n",
    "qc.measure(q[3],c[0]) # measure q[3] and write the output on c[0]\n",
    "qc.measure(q[4],c[2]) # measure q[4] and write the output on c[2]\n",
    "\n",
    "display(qc.draw())\n",
    "\n",
    "qc.barrier()\n",
    "\n",
    "qc.h(q[0]).c_if(c,5)\n",
    "qc.x(q[0]).c_if(c,3)\n",
    "qc.z(q[0]).c_if(c,1)\n",
    "\n",
    "for i in range(5):\n",
    "    if i % 2 ==0: qc.h(q[i])\n",
    "    else: qc.x(q[i])\n",
    "        \n",
    "b = 3*pi/11\n",
    "qc.cu(2*b,0,0,0,q[1],q[0])\n",
    "\n",
    "display(qc.draw(output='mpl',reverse_bits=True))\n",
    "\n",
    "job = execute(qc,Aer.get_backend('qasm_simulator'),shots=1000)\n",
    "counts = job.result().get_counts(qc)   \n",
    "print(\"measurement outcomes are:\",counts)\n",
    "print()\n",
    "\n",
    "q = QuantumRegister(2,\"q\")\n",
    "c = ClassicalRegister(2,\"c\")\n",
    "\n",
    "qc = QuantumCircuit(q,c)\n",
    "\n",
    "qc.h(q[0])\n",
    "qc.ry(a,q[0])\n",
    "qc.x(q[1])\n",
    "qc.cx(q[0],q[1])\n",
    "\n",
    "job = execute(qc,Aer.get_backend('unitary_simulator'),shots=1,optimization_level=0)\n",
    "precision = 3\n",
    "current_unitary=job.result().get_unitary(qc,precision).data\n",
    "\n",
    "print(\"unitary matrix is\")\n",
    "print(current_unitary)\n",
    "print()\n",
    "\n",
    "job = execute(qc,Aer.get_backend('statevector_simulator'),optimization_level=0)\n",
    "precision = 3\n",
    "current_quantum_state=job.result().get_statevector(qc,precision).data\n",
    "print(\"quantum state is\")\n",
    "for val in current_quantum_state:\n",
    "    print(str(val.real)+\"+\"+str(val.imag)+\"j\")\n",
    "\n",
    "print()\n",
    "print(\"All looks fine :-)\")"
   ]
  },
  {
   "cell_type": "code",
   "execution_count": null,
   "metadata": {},
   "outputs": [],
   "source": []
  }
 ],
 "metadata": {
  "kernelspec": {
   "display_name": "Qbronze-qiskit_env",
   "language": "python",
   "name": "qbronze-qiskit_env"
  },
  "language_info": {
   "codemirror_mode": {
    "name": "ipython",
    "version": 3
   },
   "file_extension": ".py",
   "mimetype": "text/x-python",
   "name": "python",
   "nbconvert_exporter": "python",
   "pygments_lexer": "ipython3",
   "version": "3.9.16"
  }
 },
 "nbformat": 4,
 "nbformat_minor": 4
}
